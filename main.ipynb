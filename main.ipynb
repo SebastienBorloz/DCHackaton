{
 "cells": [
  {
   "cell_type": "code",
   "execution_count": 15,
   "metadata": {},
   "outputs": [],
   "source": [
    "from ipyleaflet import *\n",
    "from ipyleaflet import FullScreenControl\n",
    "from ipywidgets import HTML, IntSlider, SelectionSlider, Dropdown, Button\n",
    "from shapely.geometry import shape, Point\n",
    "from ipywidgets import Layout\n",
    "from datetime import datetime\n",
    "import os\n",
    "\n",
    "import requests\n",
    "from datetime import datetime\n",
    "\n",
    "import pickle\n",
    "import numpy as np\n",
    "from sklearn.preprocessing import RobustScaler\n",
    "from sklearn.neighbors import KNeighborsRegressor\n"
   ]
  },
  {
   "cell_type": "code",
   "execution_count": 2,
   "metadata": {},
   "outputs": [
    {
     "name": "stdout",
     "output_type": "stream",
     "text": [
      "API key loaded successfully.\n"
     ]
    }
   ],
   "source": [
    "api_key = os.getenv(\"GOOGLE_MAPS_API_KEY\")\n",
    "\n",
    "if api_key is None:\n",
    "    print(\"Error: No API key found. Please set the environment variable.\")\n",
    "else:\n",
    "    print(\"API key loaded successfully.\")"
   ]
  },
  {
   "cell_type": "code",
   "execution_count": 3,
   "metadata": {},
   "outputs": [],
   "source": [
    "# loading the models\n",
    "loadedModel = pickle.load(open(\"./taxi_knr_240k.sav\", 'rb'))\n",
    "loadedScaler = pickle.load(open(\"./taxi_scaler_240k.sav\", 'rb'))"
   ]
  },
  {
   "cell_type": "code",
   "execution_count": 4,
   "metadata": {},
   "outputs": [],
   "source": [
    "def getTaxiTripLength(longIn, latIn, longOut, latOut, month, day, hour) -> float: # returns the estimated trip length in seconds\n",
    "    scaledX = loadedScaler.transform(np.array([latIn, latOut, longIn, longOut,month,day,hour]).reshape(1, -1))  \n",
    "    return loadedModel.predict(scaledX)[0][0]"
   ]
  },
  {
   "cell_type": "code",
   "execution_count": 5,
   "metadata": {},
   "outputs": [],
   "source": [
    "def get_route_data(origin, destination, api_key, departure_time=None, mode=\"walking\"):\n",
    "    \"\"\"\n",
    "    Make an API call to Google Maps Directions API to get route data.\n",
    "    \n",
    "    Args:\n",
    "    - origin (tuple): A tuple containing latitude and longitude of the origin point.\n",
    "    - destination (tuple): A tuple containing latitude and longitude of the destination point.\n",
    "    - api_key (str): Your Google Maps API key.\n",
    "    \n",
    "    Returns:\n",
    "    - dict: A dictionary containing the full response from the Google Maps API.\n",
    "    \"\"\"\n",
    "    # Directions API endpoint URL\n",
    "    url = \"https://maps.googleapis.com/maps/api/directions/json\"\n",
    "\n",
    "    if isinstance(departure_time, datetime):\n",
    "        \n",
    "        current_time = datetime.now()\n",
    "        if departure_time <= current_time:\n",
    "            departure_time = \"now\"\n",
    "        else:\n",
    "            departure_time = int(departure_time.timestamp())\n",
    "    elif departure_time is None:\n",
    "        # Set departure_time to 'now' if not provided\n",
    "        departure_time = \"now\"\n",
    "    \n",
    "    # Define the parameters for the request\n",
    "    params = {\n",
    "        \"origin\": f\"{origin[0]},{origin[1]}\",\n",
    "        \"destination\": f\"{destination[0]},{destination[1]}\",\n",
    "        \"mode\": mode,\n",
    "        \"key\": api_key,\n",
    "        \"departure_time\": f\"{departure_time}\"\n",
    "    }\n",
    "    \n",
    "    # Make the GET request to Google Maps API\n",
    "    response = requests.get(url, params=params)\n",
    "    data = response.json()\n",
    "\n",
    "    # Check the status and return the data if the status is \"OK\"\n",
    "    if data[\"status\"] == \"OK\":\n",
    "        return data\n",
    "    else:\n",
    "        # Handle potential errors in the API response\n",
    "        print(f\"Error on get_route_data: {data['status']}\")\n",
    "        return None"
   ]
  },
  {
   "cell_type": "code",
   "execution_count": 6,
   "metadata": {},
   "outputs": [],
   "source": [
    "def extract_deplacement_time(route_data):\n",
    "    \"\"\"\n",
    "    Extract deplacement time from the route data obtained from Google Maps API.\n",
    "    \n",
    "    Args:\n",
    "    - route_data (dict): A dictionary containing the response from Google Maps API.\n",
    "    \n",
    "    Returns:\n",
    "    - (str, int): A tuple containing walking time in human-readable format and duration in seconds.\n",
    "    \"\"\"\n",
    "    if route_data is None:\n",
    "        print(\"Error: No route data available to extract walking time.\")\n",
    "        return None, None\n",
    "\n",
    "    # Extract duration information from route data\n",
    "    try:\n",
    "        route = route_data[\"routes\"][0]\n",
    "        leg = route[\"legs\"][0]\n",
    "        deplacement_time = leg[\"duration\"][\"text\"]  # Text of the duration\n",
    "        deplacement_time_seconds = leg[\"duration\"][\"value\"]  # Duration in seconds\n",
    "\n",
    "        return deplacement_time, deplacement_time_seconds\n",
    "    except (KeyError, IndexError) as e:\n",
    "        print(f\"Error extracting walking time: {e}\")\n",
    "        return None, None"
   ]
  },
  {
   "cell_type": "code",
   "execution_count": 7,
   "metadata": {},
   "outputs": [],
   "source": [
    "def extract_addresses(route_data):\n",
    "    \"\"\"\n",
    "    Extract the start and destination addresses from the route data obtained from Google Maps API.\n",
    "    \n",
    "    Args:\n",
    "    - route_data (dict): A dictionary containing the response from Google Maps API.\n",
    "    \n",
    "    Returns:\n",
    "    - (str, str): A tuple containing the start address and destination address.\n",
    "    \"\"\"\n",
    "    if route_data is None:\n",
    "        print(\"Error: No route data available to extract addresses.\")\n",
    "        return None, None\n",
    "\n",
    "    try:\n",
    "        # Access the legs information in the route\n",
    "        leg = route_data[\"routes\"][0][\"legs\"][0]\n",
    "\n",
    "        # Extract the start and end addresses\n",
    "        start_address = leg[\"start_address\"]  # Start address in human-readable format\n",
    "        end_address = leg[\"end_address\"]      # End address in human-readable format\n",
    "\n",
    "        return start_address, end_address\n",
    "    except (KeyError, IndexError) as e:\n",
    "        print(f\"Error extracting addresses: {e}\")\n",
    "        return None, None"
   ]
  },
  {
   "cell_type": "code",
   "execution_count": 8,
   "metadata": {},
   "outputs": [],
   "source": [
    "def extract_polyline(route_data):\n",
    "    \"\"\"\n",
    "    Extract the encoded polyline from the Google Maps Directions API route data.\n",
    "    \n",
    "    Args:\n",
    "    - route_data (dict): The full response data from the Google Maps Directions API.\n",
    "    \n",
    "    Returns:\n",
    "    - str: The encoded polyline if available, None otherwise.\n",
    "    \"\"\"\n",
    "    try:\n",
    "        # Extract the overview polyline from the route\n",
    "        polyline = route_data[\"routes\"][0][\"overview_polyline\"][\"points\"]\n",
    "        return polyline\n",
    "    except (KeyError, IndexError):\n",
    "        print(\"Error: Unable to extract polyline from the provided route data.\")\n",
    "        return None"
   ]
  },
  {
   "cell_type": "code",
   "execution_count": 9,
   "metadata": {},
   "outputs": [],
   "source": [
    "import polyline\n",
    "\n",
    "def decode_polyline(encoded_polyline):\n",
    "    \"\"\"\n",
    "    Decodes an encoded polyline string into latitude/longitude pairs.\n",
    "\n",
    "    Args:\n",
    "    - encoded_polyline (str): The encoded polyline string to decode.\n",
    "\n",
    "    Returns:\n",
    "    - list: A list of latitude/longitude pairs (tuples).\n",
    "    \"\"\"\n",
    "    if not encoded_polyline:\n",
    "        print(\"No encoded polyline provided.\")\n",
    "        return None\n",
    "    \n",
    "    try:\n",
    "        # Decode the polyline into a list of lat/lon tuples\n",
    "        decoded_points = polyline.decode(encoded_polyline)\n",
    "        return decoded_points\n",
    "    \n",
    "    except Exception as e:\n",
    "        print(f\"An error occurred: {e}\")\n",
    "        return None"
   ]
  },
  {
   "cell_type": "code",
   "execution_count": 10,
   "metadata": {},
   "outputs": [],
   "source": [
    "# load GeoJSON file containing sectors\n",
    "with open('manhattan.geojson') as f:\n",
    "    js = json.load(f)"
   ]
  },
  {
   "cell_type": "code",
   "execution_count": 11,
   "metadata": {},
   "outputs": [],
   "source": [
    "def checkIfIn(cords:list):\n",
    "    point=Point(cords[1],cords[0])\n",
    "    # check each polygon to see if it contains the point\n",
    "    for feature in js['features']:\n",
    "        polygon = shape(feature['geometry'])\n",
    "        if polygon.contains(point):\n",
    "            return True\n",
    "    return False"
   ]
  },
  {
   "cell_type": "code",
   "execution_count": 12,
   "metadata": {},
   "outputs": [],
   "source": [
    "def format_time(seconds):\n",
    "    if seconds < 60:\n",
    "        # Only seconds\n",
    "        return f\"{int(seconds)} seconds\"\n",
    "    elif seconds < 3600:\n",
    "        # Only minutes\n",
    "        minutes = seconds // 60\n",
    "        return f\"{int(minutes)} minutes\"\n",
    "    else:\n",
    "        # Hours and minutes\n",
    "        hours = seconds // 3600\n",
    "        minutes = (seconds % 3600) // 60\n",
    "        if minutes == 0:\n",
    "            return f\"{hours} hours\"\n",
    "        else:\n",
    "            return f\"{hours} hours and {minutes} minutes\""
   ]
  },
  {
   "cell_type": "code",
   "execution_count": 22,
   "metadata": {},
   "outputs": [
    {
     "data": {
      "application/vnd.jupyter.widget-view+json": {
       "model_id": "8420cf9dcdfe44e5bbcf4ca61b92b01d",
       "version_major": 2,
       "version_minor": 0
      },
      "text/plain": [
       "Map(center=[40.7128, -74.006], controls=(ZoomControl(options=['position', 'zoom_in_text', 'zoom_in_title', 'zo…"
      ]
     },
     "execution_count": 22,
     "metadata": {},
     "output_type": "execute_result"
    },
    {
     "name": "stderr",
     "output_type": "stream",
     "text": [
      "c:\\Users\\cemuelle\\AppData\\Local\\pypoetry\\Cache\\virtualenvs\\hackaton-yFR1hobE-py3.10\\lib\\site-packages\\sklearn\\base.py:493: UserWarning: X does not have valid feature names, but RobustScaler was fitted with feature names\n",
      "  warnings.warn(\n"
     ]
    },
    {
     "name": "stdout",
     "output_type": "stream",
     "text": [
      "Error on get_route_data: ZERO_RESULTS\n",
      "Error: No route data available to extract walking time.\n"
     ]
    },
    {
     "name": "stderr",
     "output_type": "stream",
     "text": [
      "c:\\Users\\cemuelle\\AppData\\Local\\pypoetry\\Cache\\virtualenvs\\hackaton-yFR1hobE-py3.10\\lib\\site-packages\\sklearn\\base.py:493: UserWarning: X does not have valid feature names, but RobustScaler was fitted with feature names\n",
      "  warnings.warn(\n"
     ]
    },
    {
     "ename": "TypeError",
     "evalue": "'<' not supported between instances of 'NoneType' and 'int'",
     "output_type": "error",
     "traceback": [
      "\u001b[1;31m---------------------------------------------------------------------------\u001b[0m",
      "\u001b[1;31mTypeError\u001b[0m                                 Traceback (most recent call last)",
      "File \u001b[1;32mc:\\Users\\cemuelle\\AppData\\Local\\pypoetry\\Cache\\virtualenvs\\hackaton-yFR1hobE-py3.10\\lib\\site-packages\\ipywidgets\\widgets\\widget.py:773\u001b[0m, in \u001b[0;36mWidget._handle_msg\u001b[1;34m(self, msg)\u001b[0m\n\u001b[0;32m    771\u001b[0m         \u001b[38;5;28;01mif\u001b[39;00m \u001b[38;5;124m'\u001b[39m\u001b[38;5;124mbuffer_paths\u001b[39m\u001b[38;5;124m'\u001b[39m \u001b[38;5;129;01min\u001b[39;00m data:\n\u001b[0;32m    772\u001b[0m             _put_buffers(state, data[\u001b[38;5;124m'\u001b[39m\u001b[38;5;124mbuffer_paths\u001b[39m\u001b[38;5;124m'\u001b[39m], msg[\u001b[38;5;124m'\u001b[39m\u001b[38;5;124mbuffers\u001b[39m\u001b[38;5;124m'\u001b[39m])\n\u001b[1;32m--> 773\u001b[0m         \u001b[38;5;28;43mself\u001b[39;49m\u001b[38;5;241;43m.\u001b[39;49m\u001b[43mset_state\u001b[49m\u001b[43m(\u001b[49m\u001b[43mstate\u001b[49m\u001b[43m)\u001b[49m\n\u001b[0;32m    775\u001b[0m \u001b[38;5;66;03m# Handle a state request.\u001b[39;00m\n\u001b[0;32m    776\u001b[0m \u001b[38;5;28;01melif\u001b[39;00m method \u001b[38;5;241m==\u001b[39m \u001b[38;5;124m'\u001b[39m\u001b[38;5;124mrequest_state\u001b[39m\u001b[38;5;124m'\u001b[39m:\n",
      "File \u001b[1;32mc:\\Users\\cemuelle\\AppData\\Local\\pypoetry\\Cache\\virtualenvs\\hackaton-yFR1hobE-py3.10\\lib\\site-packages\\ipywidgets\\widgets\\widget.py:650\u001b[0m, in \u001b[0;36mWidget.set_state\u001b[1;34m(self, sync_data)\u001b[0m\n\u001b[0;32m    645\u001b[0m         \u001b[38;5;28mself\u001b[39m\u001b[38;5;241m.\u001b[39m_send(msg, buffers\u001b[38;5;241m=\u001b[39mecho_buffers)\n\u001b[0;32m    647\u001b[0m \u001b[38;5;66;03m# The order of these context managers is important. Properties must\u001b[39;00m\n\u001b[0;32m    648\u001b[0m \u001b[38;5;66;03m# be locked when the hold_trait_notification context manager is\u001b[39;00m\n\u001b[0;32m    649\u001b[0m \u001b[38;5;66;03m# released and notifications are fired.\u001b[39;00m\n\u001b[1;32m--> 650\u001b[0m \u001b[38;5;28;01mwith\u001b[39;00m \u001b[38;5;28mself\u001b[39m\u001b[38;5;241m.\u001b[39m_lock_property(\u001b[38;5;241m*\u001b[39m\u001b[38;5;241m*\u001b[39msync_data), \u001b[38;5;28mself\u001b[39m\u001b[38;5;241m.\u001b[39mhold_trait_notifications():\n\u001b[0;32m    651\u001b[0m     \u001b[38;5;28;01mfor\u001b[39;00m name \u001b[38;5;129;01min\u001b[39;00m sync_data:\n\u001b[0;32m    652\u001b[0m         \u001b[38;5;28;01mif\u001b[39;00m name \u001b[38;5;129;01min\u001b[39;00m \u001b[38;5;28mself\u001b[39m\u001b[38;5;241m.\u001b[39mkeys:\n",
      "File \u001b[1;32mC:\\Program Files\\WindowsApps\\PythonSoftwareFoundation.Python.3.10_3.10.3056.0_x64__qbz5n2kfra8p0\\lib\\contextlib.py:142\u001b[0m, in \u001b[0;36m_GeneratorContextManager.__exit__\u001b[1;34m(self, typ, value, traceback)\u001b[0m\n\u001b[0;32m    140\u001b[0m \u001b[38;5;28;01mif\u001b[39;00m typ \u001b[38;5;129;01mis\u001b[39;00m \u001b[38;5;28;01mNone\u001b[39;00m:\n\u001b[0;32m    141\u001b[0m     \u001b[38;5;28;01mtry\u001b[39;00m:\n\u001b[1;32m--> 142\u001b[0m         \u001b[38;5;28;43mnext\u001b[39;49m\u001b[43m(\u001b[49m\u001b[38;5;28;43mself\u001b[39;49m\u001b[38;5;241;43m.\u001b[39;49m\u001b[43mgen\u001b[49m\u001b[43m)\u001b[49m\n\u001b[0;32m    143\u001b[0m     \u001b[38;5;28;01mexcept\u001b[39;00m \u001b[38;5;167;01mStopIteration\u001b[39;00m:\n\u001b[0;32m    144\u001b[0m         \u001b[38;5;28;01mreturn\u001b[39;00m \u001b[38;5;28;01mFalse\u001b[39;00m\n",
      "File \u001b[1;32mc:\\Users\\cemuelle\\AppData\\Local\\pypoetry\\Cache\\virtualenvs\\hackaton-yFR1hobE-py3.10\\lib\\site-packages\\traitlets\\traitlets.py:1510\u001b[0m, in \u001b[0;36mHasTraits.hold_trait_notifications\u001b[1;34m(self)\u001b[0m\n\u001b[0;32m   1508\u001b[0m \u001b[38;5;28;01mfor\u001b[39;00m changes \u001b[38;5;129;01min\u001b[39;00m cache\u001b[38;5;241m.\u001b[39mvalues():\n\u001b[0;32m   1509\u001b[0m     \u001b[38;5;28;01mfor\u001b[39;00m change \u001b[38;5;129;01min\u001b[39;00m changes:\n\u001b[1;32m-> 1510\u001b[0m         \u001b[38;5;28;43mself\u001b[39;49m\u001b[38;5;241;43m.\u001b[39;49m\u001b[43mnotify_change\u001b[49m\u001b[43m(\u001b[49m\u001b[43mchange\u001b[49m\u001b[43m)\u001b[49m\n",
      "File \u001b[1;32mc:\\Users\\cemuelle\\AppData\\Local\\pypoetry\\Cache\\virtualenvs\\hackaton-yFR1hobE-py3.10\\lib\\site-packages\\ipywidgets\\widgets\\widget.py:701\u001b[0m, in \u001b[0;36mWidget.notify_change\u001b[1;34m(self, change)\u001b[0m\n\u001b[0;32m    698\u001b[0m     \u001b[38;5;28;01mif\u001b[39;00m name \u001b[38;5;129;01min\u001b[39;00m \u001b[38;5;28mself\u001b[39m\u001b[38;5;241m.\u001b[39mkeys \u001b[38;5;129;01mand\u001b[39;00m \u001b[38;5;28mself\u001b[39m\u001b[38;5;241m.\u001b[39m_should_send_property(name, \u001b[38;5;28mgetattr\u001b[39m(\u001b[38;5;28mself\u001b[39m, name)):\n\u001b[0;32m    699\u001b[0m         \u001b[38;5;66;03m# Send new state to front-end\u001b[39;00m\n\u001b[0;32m    700\u001b[0m         \u001b[38;5;28mself\u001b[39m\u001b[38;5;241m.\u001b[39msend_state(key\u001b[38;5;241m=\u001b[39mname)\n\u001b[1;32m--> 701\u001b[0m \u001b[38;5;28;43msuper\u001b[39;49m\u001b[43m(\u001b[49m\u001b[43m)\u001b[49m\u001b[38;5;241;43m.\u001b[39;49m\u001b[43mnotify_change\u001b[49m\u001b[43m(\u001b[49m\u001b[43mchange\u001b[49m\u001b[43m)\u001b[49m\n",
      "File \u001b[1;32mc:\\Users\\cemuelle\\AppData\\Local\\pypoetry\\Cache\\virtualenvs\\hackaton-yFR1hobE-py3.10\\lib\\site-packages\\traitlets\\traitlets.py:1525\u001b[0m, in \u001b[0;36mHasTraits.notify_change\u001b[1;34m(self, change)\u001b[0m\n\u001b[0;32m   1523\u001b[0m \u001b[38;5;28;01mdef\u001b[39;00m \u001b[38;5;21mnotify_change\u001b[39m(\u001b[38;5;28mself\u001b[39m, change: Bunch) \u001b[38;5;241m-\u001b[39m\u001b[38;5;241m>\u001b[39m \u001b[38;5;28;01mNone\u001b[39;00m:\n\u001b[0;32m   1524\u001b[0m \u001b[38;5;250m    \u001b[39m\u001b[38;5;124;03m\"\"\"Notify observers of a change event\"\"\"\u001b[39;00m\n\u001b[1;32m-> 1525\u001b[0m     \u001b[38;5;28;01mreturn\u001b[39;00m \u001b[38;5;28;43mself\u001b[39;49m\u001b[38;5;241;43m.\u001b[39;49m\u001b[43m_notify_observers\u001b[49m\u001b[43m(\u001b[49m\u001b[43mchange\u001b[49m\u001b[43m)\u001b[49m\n",
      "File \u001b[1;32mc:\\Users\\cemuelle\\AppData\\Local\\pypoetry\\Cache\\virtualenvs\\hackaton-yFR1hobE-py3.10\\lib\\site-packages\\traitlets\\traitlets.py:1568\u001b[0m, in \u001b[0;36mHasTraits._notify_observers\u001b[1;34m(self, event)\u001b[0m\n\u001b[0;32m   1565\u001b[0m \u001b[38;5;28;01melif\u001b[39;00m \u001b[38;5;28misinstance\u001b[39m(c, EventHandler) \u001b[38;5;129;01mand\u001b[39;00m c\u001b[38;5;241m.\u001b[39mname \u001b[38;5;129;01mis\u001b[39;00m \u001b[38;5;129;01mnot\u001b[39;00m \u001b[38;5;28;01mNone\u001b[39;00m:\n\u001b[0;32m   1566\u001b[0m     c \u001b[38;5;241m=\u001b[39m \u001b[38;5;28mgetattr\u001b[39m(\u001b[38;5;28mself\u001b[39m, c\u001b[38;5;241m.\u001b[39mname)\n\u001b[1;32m-> 1568\u001b[0m \u001b[43mc\u001b[49m\u001b[43m(\u001b[49m\u001b[43mevent\u001b[49m\u001b[43m)\u001b[49m\n",
      "File \u001b[1;32mc:\\Users\\cemuelle\\AppData\\Local\\pypoetry\\Cache\\virtualenvs\\hackaton-yFR1hobE-py3.10\\lib\\site-packages\\ipywidgets\\widgets\\widget_selection.py:236\u001b[0m, in \u001b[0;36m_Selection._propagate_index\u001b[1;34m(self, change)\u001b[0m\n\u001b[0;32m    234\u001b[0m     \u001b[38;5;28mself\u001b[39m\u001b[38;5;241m.\u001b[39mlabel \u001b[38;5;241m=\u001b[39m label\n\u001b[0;32m    235\u001b[0m \u001b[38;5;28;01mif\u001b[39;00m \u001b[38;5;28mself\u001b[39m\u001b[38;5;241m.\u001b[39mvalue \u001b[38;5;129;01mis\u001b[39;00m \u001b[38;5;129;01mnot\u001b[39;00m value:\n\u001b[1;32m--> 236\u001b[0m     \u001b[38;5;28;43mself\u001b[39;49m\u001b[38;5;241;43m.\u001b[39;49m\u001b[43mvalue\u001b[49m \u001b[38;5;241m=\u001b[39m value\n",
      "File \u001b[1;32mc:\\Users\\cemuelle\\AppData\\Local\\pypoetry\\Cache\\virtualenvs\\hackaton-yFR1hobE-py3.10\\lib\\site-packages\\traitlets\\traitlets.py:716\u001b[0m, in \u001b[0;36mTraitType.__set__\u001b[1;34m(self, obj, value)\u001b[0m\n\u001b[0;32m    714\u001b[0m \u001b[38;5;28;01mif\u001b[39;00m \u001b[38;5;28mself\u001b[39m\u001b[38;5;241m.\u001b[39mread_only:\n\u001b[0;32m    715\u001b[0m     \u001b[38;5;28;01mraise\u001b[39;00m TraitError(\u001b[38;5;124m'\u001b[39m\u001b[38;5;124mThe \u001b[39m\u001b[38;5;124m\"\u001b[39m\u001b[38;5;132;01m%s\u001b[39;00m\u001b[38;5;124m\"\u001b[39m\u001b[38;5;124m trait is read-only.\u001b[39m\u001b[38;5;124m'\u001b[39m \u001b[38;5;241m%\u001b[39m \u001b[38;5;28mself\u001b[39m\u001b[38;5;241m.\u001b[39mname)\n\u001b[1;32m--> 716\u001b[0m \u001b[38;5;28;43mself\u001b[39;49m\u001b[38;5;241;43m.\u001b[39;49m\u001b[43mset\u001b[49m\u001b[43m(\u001b[49m\u001b[43mobj\u001b[49m\u001b[43m,\u001b[49m\u001b[43m \u001b[49m\u001b[43mvalue\u001b[49m\u001b[43m)\u001b[49m\n",
      "File \u001b[1;32mc:\\Users\\cemuelle\\AppData\\Local\\pypoetry\\Cache\\virtualenvs\\hackaton-yFR1hobE-py3.10\\lib\\site-packages\\traitlets\\traitlets.py:706\u001b[0m, in \u001b[0;36mTraitType.set\u001b[1;34m(self, obj, value)\u001b[0m\n\u001b[0;32m    702\u001b[0m     silent \u001b[38;5;241m=\u001b[39m \u001b[38;5;28;01mFalse\u001b[39;00m\n\u001b[0;32m    703\u001b[0m \u001b[38;5;28;01mif\u001b[39;00m silent \u001b[38;5;129;01mis\u001b[39;00m \u001b[38;5;129;01mnot\u001b[39;00m \u001b[38;5;28;01mTrue\u001b[39;00m:\n\u001b[0;32m    704\u001b[0m     \u001b[38;5;66;03m# we explicitly compare silent to True just in case the equality\u001b[39;00m\n\u001b[0;32m    705\u001b[0m     \u001b[38;5;66;03m# comparison above returns something other than True/False\u001b[39;00m\n\u001b[1;32m--> 706\u001b[0m     \u001b[43mobj\u001b[49m\u001b[38;5;241;43m.\u001b[39;49m\u001b[43m_notify_trait\u001b[49m\u001b[43m(\u001b[49m\u001b[38;5;28;43mself\u001b[39;49m\u001b[38;5;241;43m.\u001b[39;49m\u001b[43mname\u001b[49m\u001b[43m,\u001b[49m\u001b[43m \u001b[49m\u001b[43mold_value\u001b[49m\u001b[43m,\u001b[49m\u001b[43m \u001b[49m\u001b[43mnew_value\u001b[49m\u001b[43m)\u001b[49m\n",
      "File \u001b[1;32mc:\\Users\\cemuelle\\AppData\\Local\\pypoetry\\Cache\\virtualenvs\\hackaton-yFR1hobE-py3.10\\lib\\site-packages\\traitlets\\traitlets.py:1513\u001b[0m, in \u001b[0;36mHasTraits._notify_trait\u001b[1;34m(self, name, old_value, new_value)\u001b[0m\n\u001b[0;32m   1512\u001b[0m \u001b[38;5;28;01mdef\u001b[39;00m \u001b[38;5;21m_notify_trait\u001b[39m(\u001b[38;5;28mself\u001b[39m, name: \u001b[38;5;28mstr\u001b[39m, old_value: t\u001b[38;5;241m.\u001b[39mAny, new_value: t\u001b[38;5;241m.\u001b[39mAny) \u001b[38;5;241m-\u001b[39m\u001b[38;5;241m>\u001b[39m \u001b[38;5;28;01mNone\u001b[39;00m:\n\u001b[1;32m-> 1513\u001b[0m     \u001b[38;5;28;43mself\u001b[39;49m\u001b[38;5;241;43m.\u001b[39;49m\u001b[43mnotify_change\u001b[49m\u001b[43m(\u001b[49m\n\u001b[0;32m   1514\u001b[0m \u001b[43m        \u001b[49m\u001b[43mBunch\u001b[49m\u001b[43m(\u001b[49m\n\u001b[0;32m   1515\u001b[0m \u001b[43m            \u001b[49m\u001b[43mname\u001b[49m\u001b[38;5;241;43m=\u001b[39;49m\u001b[43mname\u001b[49m\u001b[43m,\u001b[49m\n\u001b[0;32m   1516\u001b[0m \u001b[43m            \u001b[49m\u001b[43mold\u001b[49m\u001b[38;5;241;43m=\u001b[39;49m\u001b[43mold_value\u001b[49m\u001b[43m,\u001b[49m\n\u001b[0;32m   1517\u001b[0m \u001b[43m            \u001b[49m\u001b[43mnew\u001b[49m\u001b[38;5;241;43m=\u001b[39;49m\u001b[43mnew_value\u001b[49m\u001b[43m,\u001b[49m\n\u001b[0;32m   1518\u001b[0m \u001b[43m            \u001b[49m\u001b[43mowner\u001b[49m\u001b[38;5;241;43m=\u001b[39;49m\u001b[38;5;28;43mself\u001b[39;49m\u001b[43m,\u001b[49m\n\u001b[0;32m   1519\u001b[0m \u001b[43m            \u001b[49m\u001b[38;5;28;43mtype\u001b[39;49m\u001b[38;5;241;43m=\u001b[39;49m\u001b[38;5;124;43m\"\u001b[39;49m\u001b[38;5;124;43mchange\u001b[39;49m\u001b[38;5;124;43m\"\u001b[39;49m\u001b[43m,\u001b[49m\n\u001b[0;32m   1520\u001b[0m \u001b[43m        \u001b[49m\u001b[43m)\u001b[49m\n\u001b[0;32m   1521\u001b[0m \u001b[43m    \u001b[49m\u001b[43m)\u001b[49m\n",
      "File \u001b[1;32mc:\\Users\\cemuelle\\AppData\\Local\\pypoetry\\Cache\\virtualenvs\\hackaton-yFR1hobE-py3.10\\lib\\site-packages\\ipywidgets\\widgets\\widget.py:701\u001b[0m, in \u001b[0;36mWidget.notify_change\u001b[1;34m(self, change)\u001b[0m\n\u001b[0;32m    698\u001b[0m     \u001b[38;5;28;01mif\u001b[39;00m name \u001b[38;5;129;01min\u001b[39;00m \u001b[38;5;28mself\u001b[39m\u001b[38;5;241m.\u001b[39mkeys \u001b[38;5;129;01mand\u001b[39;00m \u001b[38;5;28mself\u001b[39m\u001b[38;5;241m.\u001b[39m_should_send_property(name, \u001b[38;5;28mgetattr\u001b[39m(\u001b[38;5;28mself\u001b[39m, name)):\n\u001b[0;32m    699\u001b[0m         \u001b[38;5;66;03m# Send new state to front-end\u001b[39;00m\n\u001b[0;32m    700\u001b[0m         \u001b[38;5;28mself\u001b[39m\u001b[38;5;241m.\u001b[39msend_state(key\u001b[38;5;241m=\u001b[39mname)\n\u001b[1;32m--> 701\u001b[0m \u001b[38;5;28;43msuper\u001b[39;49m\u001b[43m(\u001b[49m\u001b[43m)\u001b[49m\u001b[38;5;241;43m.\u001b[39;49m\u001b[43mnotify_change\u001b[49m\u001b[43m(\u001b[49m\u001b[43mchange\u001b[49m\u001b[43m)\u001b[49m\n",
      "File \u001b[1;32mc:\\Users\\cemuelle\\AppData\\Local\\pypoetry\\Cache\\virtualenvs\\hackaton-yFR1hobE-py3.10\\lib\\site-packages\\traitlets\\traitlets.py:1525\u001b[0m, in \u001b[0;36mHasTraits.notify_change\u001b[1;34m(self, change)\u001b[0m\n\u001b[0;32m   1523\u001b[0m \u001b[38;5;28;01mdef\u001b[39;00m \u001b[38;5;21mnotify_change\u001b[39m(\u001b[38;5;28mself\u001b[39m, change: Bunch) \u001b[38;5;241m-\u001b[39m\u001b[38;5;241m>\u001b[39m \u001b[38;5;28;01mNone\u001b[39;00m:\n\u001b[0;32m   1524\u001b[0m \u001b[38;5;250m    \u001b[39m\u001b[38;5;124;03m\"\"\"Notify observers of a change event\"\"\"\u001b[39;00m\n\u001b[1;32m-> 1525\u001b[0m     \u001b[38;5;28;01mreturn\u001b[39;00m \u001b[38;5;28;43mself\u001b[39;49m\u001b[38;5;241;43m.\u001b[39;49m\u001b[43m_notify_observers\u001b[49m\u001b[43m(\u001b[49m\u001b[43mchange\u001b[49m\u001b[43m)\u001b[49m\n",
      "File \u001b[1;32mc:\\Users\\cemuelle\\AppData\\Local\\pypoetry\\Cache\\virtualenvs\\hackaton-yFR1hobE-py3.10\\lib\\site-packages\\traitlets\\traitlets.py:1568\u001b[0m, in \u001b[0;36mHasTraits._notify_observers\u001b[1;34m(self, event)\u001b[0m\n\u001b[0;32m   1565\u001b[0m \u001b[38;5;28;01melif\u001b[39;00m \u001b[38;5;28misinstance\u001b[39m(c, EventHandler) \u001b[38;5;129;01mand\u001b[39;00m c\u001b[38;5;241m.\u001b[39mname \u001b[38;5;129;01mis\u001b[39;00m \u001b[38;5;129;01mnot\u001b[39;00m \u001b[38;5;28;01mNone\u001b[39;00m:\n\u001b[0;32m   1566\u001b[0m     c \u001b[38;5;241m=\u001b[39m \u001b[38;5;28mgetattr\u001b[39m(\u001b[38;5;28mself\u001b[39m, c\u001b[38;5;241m.\u001b[39mname)\n\u001b[1;32m-> 1568\u001b[0m \u001b[43mc\u001b[49m\u001b[43m(\u001b[49m\u001b[43mevent\u001b[49m\u001b[43m)\u001b[49m\n",
      "Cell \u001b[1;32mIn[22], line 135\u001b[0m, in \u001b[0;36mcompute_travel_time\u001b[1;34m(change)\u001b[0m\n\u001b[0;32m    132\u001b[0m deplacement_time, deplacement_time_seconds \u001b[38;5;241m=\u001b[39m extract_deplacement_time(route_data)\n\u001b[0;32m    133\u001b[0m taxi_time \u001b[38;5;241m=\u001b[39m getTaxiTripLength(longIn\u001b[38;5;241m=\u001b[39mclick_pos[\u001b[38;5;241m0\u001b[39m][\u001b[38;5;241m0\u001b[39m], latIn\u001b[38;5;241m=\u001b[39mclick_pos[\u001b[38;5;241m0\u001b[39m][\u001b[38;5;241m1\u001b[39m], longOut\u001b[38;5;241m=\u001b[39mclick_pos[\u001b[38;5;241m1\u001b[39m][\u001b[38;5;241m0\u001b[39m], latOut\u001b[38;5;241m=\u001b[39mclick_pos[\u001b[38;5;241m1\u001b[39m][\u001b[38;5;241m1\u001b[39m], month\u001b[38;5;241m=\u001b[39mmonth_slider\u001b[38;5;241m.\u001b[39mvalue, day\u001b[38;5;241m=\u001b[39mday_slider\u001b[38;5;241m.\u001b[39mvalue, hour\u001b[38;5;241m=\u001b[39mhour_slider\u001b[38;5;241m.\u001b[39mvalue)\n\u001b[1;32m--> 135\u001b[0m time_wigdet\u001b[38;5;241m.\u001b[39mvalue \u001b[38;5;241m=\u001b[39m \u001b[38;5;124mf\u001b[39m\u001b[38;5;124m\"\u001b[39m\u001b[38;5;124m<b>Estimated \u001b[39m\u001b[38;5;132;01m{\u001b[39;00mmodel_selector\u001b[38;5;241m.\u001b[39mvalue\u001b[38;5;132;01m}\u001b[39;00m\u001b[38;5;124m time:</b> \u001b[39m\u001b[38;5;132;01m{\u001b[39;00m\u001b[43mformat_time\u001b[49m\u001b[43m(\u001b[49m\u001b[43mdeplacement_time_seconds\u001b[49m\u001b[43m)\u001b[49m\u001b[38;5;132;01m}\u001b[39;00m\u001b[38;5;124m<br><b>Taxi deplacement time:</b> \u001b[39m\u001b[38;5;132;01m{\u001b[39;00mformat_time(taxi_time)\u001b[38;5;132;01m}\u001b[39;00m\u001b[38;5;124m\"\u001b[39m\n\u001b[0;32m    137\u001b[0m \u001b[38;5;28;01mif\u001b[39;00m polyline_layer \u001b[38;5;129;01mis\u001b[39;00m \u001b[38;5;129;01mnot\u001b[39;00m \u001b[38;5;28;01mNone\u001b[39;00m \u001b[38;5;129;01mand\u001b[39;00m \u001b[38;5;28mlen\u001b[39m(polyline_layer)\u001b[38;5;241m>\u001b[39m\u001b[38;5;241m0\u001b[39m:\n\u001b[0;32m    138\u001b[0m     m\u001b[38;5;241m.\u001b[39mremove_layer(polyline_layer[\u001b[38;5;241m0\u001b[39m])\n",
      "Cell \u001b[1;32mIn[12], line 2\u001b[0m, in \u001b[0;36mformat_time\u001b[1;34m(seconds)\u001b[0m\n\u001b[0;32m      1\u001b[0m \u001b[38;5;28;01mdef\u001b[39;00m \u001b[38;5;21mformat_time\u001b[39m(seconds):\n\u001b[1;32m----> 2\u001b[0m     \u001b[38;5;28;01mif\u001b[39;00m \u001b[43mseconds\u001b[49m\u001b[43m \u001b[49m\u001b[38;5;241;43m<\u001b[39;49m\u001b[43m \u001b[49m\u001b[38;5;241;43m60\u001b[39;49m:\n\u001b[0;32m      3\u001b[0m         \u001b[38;5;66;03m# Only seconds\u001b[39;00m\n\u001b[0;32m      4\u001b[0m         \u001b[38;5;28;01mreturn\u001b[39;00m \u001b[38;5;124mf\u001b[39m\u001b[38;5;124m\"\u001b[39m\u001b[38;5;132;01m{\u001b[39;00m\u001b[38;5;28mint\u001b[39m(seconds)\u001b[38;5;132;01m}\u001b[39;00m\u001b[38;5;124m seconds\u001b[39m\u001b[38;5;124m\"\u001b[39m\n\u001b[0;32m      5\u001b[0m     \u001b[38;5;28;01melif\u001b[39;00m seconds \u001b[38;5;241m<\u001b[39m \u001b[38;5;241m3600\u001b[39m:\n\u001b[0;32m      6\u001b[0m         \u001b[38;5;66;03m# Only minutes\u001b[39;00m\n",
      "\u001b[1;31mTypeError\u001b[0m: '<' not supported between instances of 'NoneType' and 'int'"
     ]
    },
    {
     "name": "stderr",
     "output_type": "stream",
     "text": [
      "c:\\Users\\cemuelle\\AppData\\Local\\pypoetry\\Cache\\virtualenvs\\hackaton-yFR1hobE-py3.10\\lib\\site-packages\\sklearn\\base.py:493: UserWarning: X does not have valid feature names, but RobustScaler was fitted with feature names\n",
      "  warnings.warn(\n",
      "c:\\Users\\cemuelle\\AppData\\Local\\pypoetry\\Cache\\virtualenvs\\hackaton-yFR1hobE-py3.10\\lib\\site-packages\\sklearn\\base.py:493: UserWarning: X does not have valid feature names, but RobustScaler was fitted with feature names\n",
      "  warnings.warn(\n",
      "c:\\Users\\cemuelle\\AppData\\Local\\pypoetry\\Cache\\virtualenvs\\hackaton-yFR1hobE-py3.10\\lib\\site-packages\\sklearn\\base.py:493: UserWarning: X does not have valid feature names, but RobustScaler was fitted with feature names\n",
      "  warnings.warn(\n"
     ]
    },
    {
     "name": "stdout",
     "output_type": "stream",
     "text": [
      "Error on get_route_data: ZERO_RESULTS\n",
      "Error: No route data available to extract walking time.\n"
     ]
    },
    {
     "name": "stderr",
     "output_type": "stream",
     "text": [
      "c:\\Users\\cemuelle\\AppData\\Local\\pypoetry\\Cache\\virtualenvs\\hackaton-yFR1hobE-py3.10\\lib\\site-packages\\sklearn\\base.py:493: UserWarning: X does not have valid feature names, but RobustScaler was fitted with feature names\n",
      "  warnings.warn(\n"
     ]
    },
    {
     "ename": "TypeError",
     "evalue": "'<' not supported between instances of 'NoneType' and 'int'",
     "output_type": "error",
     "traceback": [
      "\u001b[1;31m---------------------------------------------------------------------------\u001b[0m",
      "\u001b[1;31mTypeError\u001b[0m                                 Traceback (most recent call last)",
      "File \u001b[1;32mc:\\Users\\cemuelle\\AppData\\Local\\pypoetry\\Cache\\virtualenvs\\hackaton-yFR1hobE-py3.10\\lib\\site-packages\\ipywidgets\\widgets\\widget.py:773\u001b[0m, in \u001b[0;36mWidget._handle_msg\u001b[1;34m(self, msg)\u001b[0m\n\u001b[0;32m    771\u001b[0m         \u001b[38;5;28;01mif\u001b[39;00m \u001b[38;5;124m'\u001b[39m\u001b[38;5;124mbuffer_paths\u001b[39m\u001b[38;5;124m'\u001b[39m \u001b[38;5;129;01min\u001b[39;00m data:\n\u001b[0;32m    772\u001b[0m             _put_buffers(state, data[\u001b[38;5;124m'\u001b[39m\u001b[38;5;124mbuffer_paths\u001b[39m\u001b[38;5;124m'\u001b[39m], msg[\u001b[38;5;124m'\u001b[39m\u001b[38;5;124mbuffers\u001b[39m\u001b[38;5;124m'\u001b[39m])\n\u001b[1;32m--> 773\u001b[0m         \u001b[38;5;28;43mself\u001b[39;49m\u001b[38;5;241;43m.\u001b[39;49m\u001b[43mset_state\u001b[49m\u001b[43m(\u001b[49m\u001b[43mstate\u001b[49m\u001b[43m)\u001b[49m\n\u001b[0;32m    775\u001b[0m \u001b[38;5;66;03m# Handle a state request.\u001b[39;00m\n\u001b[0;32m    776\u001b[0m \u001b[38;5;28;01melif\u001b[39;00m method \u001b[38;5;241m==\u001b[39m \u001b[38;5;124m'\u001b[39m\u001b[38;5;124mrequest_state\u001b[39m\u001b[38;5;124m'\u001b[39m:\n",
      "File \u001b[1;32mc:\\Users\\cemuelle\\AppData\\Local\\pypoetry\\Cache\\virtualenvs\\hackaton-yFR1hobE-py3.10\\lib\\site-packages\\ipywidgets\\widgets\\widget.py:650\u001b[0m, in \u001b[0;36mWidget.set_state\u001b[1;34m(self, sync_data)\u001b[0m\n\u001b[0;32m    645\u001b[0m         \u001b[38;5;28mself\u001b[39m\u001b[38;5;241m.\u001b[39m_send(msg, buffers\u001b[38;5;241m=\u001b[39mecho_buffers)\n\u001b[0;32m    647\u001b[0m \u001b[38;5;66;03m# The order of these context managers is important. Properties must\u001b[39;00m\n\u001b[0;32m    648\u001b[0m \u001b[38;5;66;03m# be locked when the hold_trait_notification context manager is\u001b[39;00m\n\u001b[0;32m    649\u001b[0m \u001b[38;5;66;03m# released and notifications are fired.\u001b[39;00m\n\u001b[1;32m--> 650\u001b[0m \u001b[38;5;28;01mwith\u001b[39;00m \u001b[38;5;28mself\u001b[39m\u001b[38;5;241m.\u001b[39m_lock_property(\u001b[38;5;241m*\u001b[39m\u001b[38;5;241m*\u001b[39msync_data), \u001b[38;5;28mself\u001b[39m\u001b[38;5;241m.\u001b[39mhold_trait_notifications():\n\u001b[0;32m    651\u001b[0m     \u001b[38;5;28;01mfor\u001b[39;00m name \u001b[38;5;129;01min\u001b[39;00m sync_data:\n\u001b[0;32m    652\u001b[0m         \u001b[38;5;28;01mif\u001b[39;00m name \u001b[38;5;129;01min\u001b[39;00m \u001b[38;5;28mself\u001b[39m\u001b[38;5;241m.\u001b[39mkeys:\n",
      "File \u001b[1;32mC:\\Program Files\\WindowsApps\\PythonSoftwareFoundation.Python.3.10_3.10.3056.0_x64__qbz5n2kfra8p0\\lib\\contextlib.py:142\u001b[0m, in \u001b[0;36m_GeneratorContextManager.__exit__\u001b[1;34m(self, typ, value, traceback)\u001b[0m\n\u001b[0;32m    140\u001b[0m \u001b[38;5;28;01mif\u001b[39;00m typ \u001b[38;5;129;01mis\u001b[39;00m \u001b[38;5;28;01mNone\u001b[39;00m:\n\u001b[0;32m    141\u001b[0m     \u001b[38;5;28;01mtry\u001b[39;00m:\n\u001b[1;32m--> 142\u001b[0m         \u001b[38;5;28;43mnext\u001b[39;49m\u001b[43m(\u001b[49m\u001b[38;5;28;43mself\u001b[39;49m\u001b[38;5;241;43m.\u001b[39;49m\u001b[43mgen\u001b[49m\u001b[43m)\u001b[49m\n\u001b[0;32m    143\u001b[0m     \u001b[38;5;28;01mexcept\u001b[39;00m \u001b[38;5;167;01mStopIteration\u001b[39;00m:\n\u001b[0;32m    144\u001b[0m         \u001b[38;5;28;01mreturn\u001b[39;00m \u001b[38;5;28;01mFalse\u001b[39;00m\n",
      "File \u001b[1;32mc:\\Users\\cemuelle\\AppData\\Local\\pypoetry\\Cache\\virtualenvs\\hackaton-yFR1hobE-py3.10\\lib\\site-packages\\traitlets\\traitlets.py:1510\u001b[0m, in \u001b[0;36mHasTraits.hold_trait_notifications\u001b[1;34m(self)\u001b[0m\n\u001b[0;32m   1508\u001b[0m \u001b[38;5;28;01mfor\u001b[39;00m changes \u001b[38;5;129;01min\u001b[39;00m cache\u001b[38;5;241m.\u001b[39mvalues():\n\u001b[0;32m   1509\u001b[0m     \u001b[38;5;28;01mfor\u001b[39;00m change \u001b[38;5;129;01min\u001b[39;00m changes:\n\u001b[1;32m-> 1510\u001b[0m         \u001b[38;5;28;43mself\u001b[39;49m\u001b[38;5;241;43m.\u001b[39;49m\u001b[43mnotify_change\u001b[49m\u001b[43m(\u001b[49m\u001b[43mchange\u001b[49m\u001b[43m)\u001b[49m\n",
      "File \u001b[1;32mc:\\Users\\cemuelle\\AppData\\Local\\pypoetry\\Cache\\virtualenvs\\hackaton-yFR1hobE-py3.10\\lib\\site-packages\\ipywidgets\\widgets\\widget.py:701\u001b[0m, in \u001b[0;36mWidget.notify_change\u001b[1;34m(self, change)\u001b[0m\n\u001b[0;32m    698\u001b[0m     \u001b[38;5;28;01mif\u001b[39;00m name \u001b[38;5;129;01min\u001b[39;00m \u001b[38;5;28mself\u001b[39m\u001b[38;5;241m.\u001b[39mkeys \u001b[38;5;129;01mand\u001b[39;00m \u001b[38;5;28mself\u001b[39m\u001b[38;5;241m.\u001b[39m_should_send_property(name, \u001b[38;5;28mgetattr\u001b[39m(\u001b[38;5;28mself\u001b[39m, name)):\n\u001b[0;32m    699\u001b[0m         \u001b[38;5;66;03m# Send new state to front-end\u001b[39;00m\n\u001b[0;32m    700\u001b[0m         \u001b[38;5;28mself\u001b[39m\u001b[38;5;241m.\u001b[39msend_state(key\u001b[38;5;241m=\u001b[39mname)\n\u001b[1;32m--> 701\u001b[0m \u001b[38;5;28;43msuper\u001b[39;49m\u001b[43m(\u001b[49m\u001b[43m)\u001b[49m\u001b[38;5;241;43m.\u001b[39;49m\u001b[43mnotify_change\u001b[49m\u001b[43m(\u001b[49m\u001b[43mchange\u001b[49m\u001b[43m)\u001b[49m\n",
      "File \u001b[1;32mc:\\Users\\cemuelle\\AppData\\Local\\pypoetry\\Cache\\virtualenvs\\hackaton-yFR1hobE-py3.10\\lib\\site-packages\\traitlets\\traitlets.py:1525\u001b[0m, in \u001b[0;36mHasTraits.notify_change\u001b[1;34m(self, change)\u001b[0m\n\u001b[0;32m   1523\u001b[0m \u001b[38;5;28;01mdef\u001b[39;00m \u001b[38;5;21mnotify_change\u001b[39m(\u001b[38;5;28mself\u001b[39m, change: Bunch) \u001b[38;5;241m-\u001b[39m\u001b[38;5;241m>\u001b[39m \u001b[38;5;28;01mNone\u001b[39;00m:\n\u001b[0;32m   1524\u001b[0m \u001b[38;5;250m    \u001b[39m\u001b[38;5;124;03m\"\"\"Notify observers of a change event\"\"\"\u001b[39;00m\n\u001b[1;32m-> 1525\u001b[0m     \u001b[38;5;28;01mreturn\u001b[39;00m \u001b[38;5;28;43mself\u001b[39;49m\u001b[38;5;241;43m.\u001b[39;49m\u001b[43m_notify_observers\u001b[49m\u001b[43m(\u001b[49m\u001b[43mchange\u001b[49m\u001b[43m)\u001b[49m\n",
      "File \u001b[1;32mc:\\Users\\cemuelle\\AppData\\Local\\pypoetry\\Cache\\virtualenvs\\hackaton-yFR1hobE-py3.10\\lib\\site-packages\\traitlets\\traitlets.py:1568\u001b[0m, in \u001b[0;36mHasTraits._notify_observers\u001b[1;34m(self, event)\u001b[0m\n\u001b[0;32m   1565\u001b[0m \u001b[38;5;28;01melif\u001b[39;00m \u001b[38;5;28misinstance\u001b[39m(c, EventHandler) \u001b[38;5;129;01mand\u001b[39;00m c\u001b[38;5;241m.\u001b[39mname \u001b[38;5;129;01mis\u001b[39;00m \u001b[38;5;129;01mnot\u001b[39;00m \u001b[38;5;28;01mNone\u001b[39;00m:\n\u001b[0;32m   1566\u001b[0m     c \u001b[38;5;241m=\u001b[39m \u001b[38;5;28mgetattr\u001b[39m(\u001b[38;5;28mself\u001b[39m, c\u001b[38;5;241m.\u001b[39mname)\n\u001b[1;32m-> 1568\u001b[0m \u001b[43mc\u001b[49m\u001b[43m(\u001b[49m\u001b[43mevent\u001b[49m\u001b[43m)\u001b[49m\n",
      "File \u001b[1;32mc:\\Users\\cemuelle\\AppData\\Local\\pypoetry\\Cache\\virtualenvs\\hackaton-yFR1hobE-py3.10\\lib\\site-packages\\ipywidgets\\widgets\\widget_selection.py:236\u001b[0m, in \u001b[0;36m_Selection._propagate_index\u001b[1;34m(self, change)\u001b[0m\n\u001b[0;32m    234\u001b[0m     \u001b[38;5;28mself\u001b[39m\u001b[38;5;241m.\u001b[39mlabel \u001b[38;5;241m=\u001b[39m label\n\u001b[0;32m    235\u001b[0m \u001b[38;5;28;01mif\u001b[39;00m \u001b[38;5;28mself\u001b[39m\u001b[38;5;241m.\u001b[39mvalue \u001b[38;5;129;01mis\u001b[39;00m \u001b[38;5;129;01mnot\u001b[39;00m value:\n\u001b[1;32m--> 236\u001b[0m     \u001b[38;5;28;43mself\u001b[39;49m\u001b[38;5;241;43m.\u001b[39;49m\u001b[43mvalue\u001b[49m \u001b[38;5;241m=\u001b[39m value\n",
      "File \u001b[1;32mc:\\Users\\cemuelle\\AppData\\Local\\pypoetry\\Cache\\virtualenvs\\hackaton-yFR1hobE-py3.10\\lib\\site-packages\\traitlets\\traitlets.py:716\u001b[0m, in \u001b[0;36mTraitType.__set__\u001b[1;34m(self, obj, value)\u001b[0m\n\u001b[0;32m    714\u001b[0m \u001b[38;5;28;01mif\u001b[39;00m \u001b[38;5;28mself\u001b[39m\u001b[38;5;241m.\u001b[39mread_only:\n\u001b[0;32m    715\u001b[0m     \u001b[38;5;28;01mraise\u001b[39;00m TraitError(\u001b[38;5;124m'\u001b[39m\u001b[38;5;124mThe \u001b[39m\u001b[38;5;124m\"\u001b[39m\u001b[38;5;132;01m%s\u001b[39;00m\u001b[38;5;124m\"\u001b[39m\u001b[38;5;124m trait is read-only.\u001b[39m\u001b[38;5;124m'\u001b[39m \u001b[38;5;241m%\u001b[39m \u001b[38;5;28mself\u001b[39m\u001b[38;5;241m.\u001b[39mname)\n\u001b[1;32m--> 716\u001b[0m \u001b[38;5;28;43mself\u001b[39;49m\u001b[38;5;241;43m.\u001b[39;49m\u001b[43mset\u001b[49m\u001b[43m(\u001b[49m\u001b[43mobj\u001b[49m\u001b[43m,\u001b[49m\u001b[43m \u001b[49m\u001b[43mvalue\u001b[49m\u001b[43m)\u001b[49m\n",
      "File \u001b[1;32mc:\\Users\\cemuelle\\AppData\\Local\\pypoetry\\Cache\\virtualenvs\\hackaton-yFR1hobE-py3.10\\lib\\site-packages\\traitlets\\traitlets.py:706\u001b[0m, in \u001b[0;36mTraitType.set\u001b[1;34m(self, obj, value)\u001b[0m\n\u001b[0;32m    702\u001b[0m     silent \u001b[38;5;241m=\u001b[39m \u001b[38;5;28;01mFalse\u001b[39;00m\n\u001b[0;32m    703\u001b[0m \u001b[38;5;28;01mif\u001b[39;00m silent \u001b[38;5;129;01mis\u001b[39;00m \u001b[38;5;129;01mnot\u001b[39;00m \u001b[38;5;28;01mTrue\u001b[39;00m:\n\u001b[0;32m    704\u001b[0m     \u001b[38;5;66;03m# we explicitly compare silent to True just in case the equality\u001b[39;00m\n\u001b[0;32m    705\u001b[0m     \u001b[38;5;66;03m# comparison above returns something other than True/False\u001b[39;00m\n\u001b[1;32m--> 706\u001b[0m     \u001b[43mobj\u001b[49m\u001b[38;5;241;43m.\u001b[39;49m\u001b[43m_notify_trait\u001b[49m\u001b[43m(\u001b[49m\u001b[38;5;28;43mself\u001b[39;49m\u001b[38;5;241;43m.\u001b[39;49m\u001b[43mname\u001b[49m\u001b[43m,\u001b[49m\u001b[43m \u001b[49m\u001b[43mold_value\u001b[49m\u001b[43m,\u001b[49m\u001b[43m \u001b[49m\u001b[43mnew_value\u001b[49m\u001b[43m)\u001b[49m\n",
      "File \u001b[1;32mc:\\Users\\cemuelle\\AppData\\Local\\pypoetry\\Cache\\virtualenvs\\hackaton-yFR1hobE-py3.10\\lib\\site-packages\\traitlets\\traitlets.py:1513\u001b[0m, in \u001b[0;36mHasTraits._notify_trait\u001b[1;34m(self, name, old_value, new_value)\u001b[0m\n\u001b[0;32m   1512\u001b[0m \u001b[38;5;28;01mdef\u001b[39;00m \u001b[38;5;21m_notify_trait\u001b[39m(\u001b[38;5;28mself\u001b[39m, name: \u001b[38;5;28mstr\u001b[39m, old_value: t\u001b[38;5;241m.\u001b[39mAny, new_value: t\u001b[38;5;241m.\u001b[39mAny) \u001b[38;5;241m-\u001b[39m\u001b[38;5;241m>\u001b[39m \u001b[38;5;28;01mNone\u001b[39;00m:\n\u001b[1;32m-> 1513\u001b[0m     \u001b[38;5;28;43mself\u001b[39;49m\u001b[38;5;241;43m.\u001b[39;49m\u001b[43mnotify_change\u001b[49m\u001b[43m(\u001b[49m\n\u001b[0;32m   1514\u001b[0m \u001b[43m        \u001b[49m\u001b[43mBunch\u001b[49m\u001b[43m(\u001b[49m\n\u001b[0;32m   1515\u001b[0m \u001b[43m            \u001b[49m\u001b[43mname\u001b[49m\u001b[38;5;241;43m=\u001b[39;49m\u001b[43mname\u001b[49m\u001b[43m,\u001b[49m\n\u001b[0;32m   1516\u001b[0m \u001b[43m            \u001b[49m\u001b[43mold\u001b[49m\u001b[38;5;241;43m=\u001b[39;49m\u001b[43mold_value\u001b[49m\u001b[43m,\u001b[49m\n\u001b[0;32m   1517\u001b[0m \u001b[43m            \u001b[49m\u001b[43mnew\u001b[49m\u001b[38;5;241;43m=\u001b[39;49m\u001b[43mnew_value\u001b[49m\u001b[43m,\u001b[49m\n\u001b[0;32m   1518\u001b[0m \u001b[43m            \u001b[49m\u001b[43mowner\u001b[49m\u001b[38;5;241;43m=\u001b[39;49m\u001b[38;5;28;43mself\u001b[39;49m\u001b[43m,\u001b[49m\n\u001b[0;32m   1519\u001b[0m \u001b[43m            \u001b[49m\u001b[38;5;28;43mtype\u001b[39;49m\u001b[38;5;241;43m=\u001b[39;49m\u001b[38;5;124;43m\"\u001b[39;49m\u001b[38;5;124;43mchange\u001b[39;49m\u001b[38;5;124;43m\"\u001b[39;49m\u001b[43m,\u001b[49m\n\u001b[0;32m   1520\u001b[0m \u001b[43m        \u001b[49m\u001b[43m)\u001b[49m\n\u001b[0;32m   1521\u001b[0m \u001b[43m    \u001b[49m\u001b[43m)\u001b[49m\n",
      "File \u001b[1;32mc:\\Users\\cemuelle\\AppData\\Local\\pypoetry\\Cache\\virtualenvs\\hackaton-yFR1hobE-py3.10\\lib\\site-packages\\ipywidgets\\widgets\\widget.py:701\u001b[0m, in \u001b[0;36mWidget.notify_change\u001b[1;34m(self, change)\u001b[0m\n\u001b[0;32m    698\u001b[0m     \u001b[38;5;28;01mif\u001b[39;00m name \u001b[38;5;129;01min\u001b[39;00m \u001b[38;5;28mself\u001b[39m\u001b[38;5;241m.\u001b[39mkeys \u001b[38;5;129;01mand\u001b[39;00m \u001b[38;5;28mself\u001b[39m\u001b[38;5;241m.\u001b[39m_should_send_property(name, \u001b[38;5;28mgetattr\u001b[39m(\u001b[38;5;28mself\u001b[39m, name)):\n\u001b[0;32m    699\u001b[0m         \u001b[38;5;66;03m# Send new state to front-end\u001b[39;00m\n\u001b[0;32m    700\u001b[0m         \u001b[38;5;28mself\u001b[39m\u001b[38;5;241m.\u001b[39msend_state(key\u001b[38;5;241m=\u001b[39mname)\n\u001b[1;32m--> 701\u001b[0m \u001b[38;5;28;43msuper\u001b[39;49m\u001b[43m(\u001b[49m\u001b[43m)\u001b[49m\u001b[38;5;241;43m.\u001b[39;49m\u001b[43mnotify_change\u001b[49m\u001b[43m(\u001b[49m\u001b[43mchange\u001b[49m\u001b[43m)\u001b[49m\n",
      "File \u001b[1;32mc:\\Users\\cemuelle\\AppData\\Local\\pypoetry\\Cache\\virtualenvs\\hackaton-yFR1hobE-py3.10\\lib\\site-packages\\traitlets\\traitlets.py:1525\u001b[0m, in \u001b[0;36mHasTraits.notify_change\u001b[1;34m(self, change)\u001b[0m\n\u001b[0;32m   1523\u001b[0m \u001b[38;5;28;01mdef\u001b[39;00m \u001b[38;5;21mnotify_change\u001b[39m(\u001b[38;5;28mself\u001b[39m, change: Bunch) \u001b[38;5;241m-\u001b[39m\u001b[38;5;241m>\u001b[39m \u001b[38;5;28;01mNone\u001b[39;00m:\n\u001b[0;32m   1524\u001b[0m \u001b[38;5;250m    \u001b[39m\u001b[38;5;124;03m\"\"\"Notify observers of a change event\"\"\"\u001b[39;00m\n\u001b[1;32m-> 1525\u001b[0m     \u001b[38;5;28;01mreturn\u001b[39;00m \u001b[38;5;28;43mself\u001b[39;49m\u001b[38;5;241;43m.\u001b[39;49m\u001b[43m_notify_observers\u001b[49m\u001b[43m(\u001b[49m\u001b[43mchange\u001b[49m\u001b[43m)\u001b[49m\n",
      "File \u001b[1;32mc:\\Users\\cemuelle\\AppData\\Local\\pypoetry\\Cache\\virtualenvs\\hackaton-yFR1hobE-py3.10\\lib\\site-packages\\traitlets\\traitlets.py:1568\u001b[0m, in \u001b[0;36mHasTraits._notify_observers\u001b[1;34m(self, event)\u001b[0m\n\u001b[0;32m   1565\u001b[0m \u001b[38;5;28;01melif\u001b[39;00m \u001b[38;5;28misinstance\u001b[39m(c, EventHandler) \u001b[38;5;129;01mand\u001b[39;00m c\u001b[38;5;241m.\u001b[39mname \u001b[38;5;129;01mis\u001b[39;00m \u001b[38;5;129;01mnot\u001b[39;00m \u001b[38;5;28;01mNone\u001b[39;00m:\n\u001b[0;32m   1566\u001b[0m     c \u001b[38;5;241m=\u001b[39m \u001b[38;5;28mgetattr\u001b[39m(\u001b[38;5;28mself\u001b[39m, c\u001b[38;5;241m.\u001b[39mname)\n\u001b[1;32m-> 1568\u001b[0m \u001b[43mc\u001b[49m\u001b[43m(\u001b[49m\u001b[43mevent\u001b[49m\u001b[43m)\u001b[49m\n",
      "Cell \u001b[1;32mIn[22], line 135\u001b[0m, in \u001b[0;36mcompute_travel_time\u001b[1;34m(change)\u001b[0m\n\u001b[0;32m    132\u001b[0m deplacement_time, deplacement_time_seconds \u001b[38;5;241m=\u001b[39m extract_deplacement_time(route_data)\n\u001b[0;32m    133\u001b[0m taxi_time \u001b[38;5;241m=\u001b[39m getTaxiTripLength(longIn\u001b[38;5;241m=\u001b[39mclick_pos[\u001b[38;5;241m0\u001b[39m][\u001b[38;5;241m0\u001b[39m], latIn\u001b[38;5;241m=\u001b[39mclick_pos[\u001b[38;5;241m0\u001b[39m][\u001b[38;5;241m1\u001b[39m], longOut\u001b[38;5;241m=\u001b[39mclick_pos[\u001b[38;5;241m1\u001b[39m][\u001b[38;5;241m0\u001b[39m], latOut\u001b[38;5;241m=\u001b[39mclick_pos[\u001b[38;5;241m1\u001b[39m][\u001b[38;5;241m1\u001b[39m], month\u001b[38;5;241m=\u001b[39mmonth_slider\u001b[38;5;241m.\u001b[39mvalue, day\u001b[38;5;241m=\u001b[39mday_slider\u001b[38;5;241m.\u001b[39mvalue, hour\u001b[38;5;241m=\u001b[39mhour_slider\u001b[38;5;241m.\u001b[39mvalue)\n\u001b[1;32m--> 135\u001b[0m time_wigdet\u001b[38;5;241m.\u001b[39mvalue \u001b[38;5;241m=\u001b[39m \u001b[38;5;124mf\u001b[39m\u001b[38;5;124m\"\u001b[39m\u001b[38;5;124m<b>Estimated \u001b[39m\u001b[38;5;132;01m{\u001b[39;00mmodel_selector\u001b[38;5;241m.\u001b[39mvalue\u001b[38;5;132;01m}\u001b[39;00m\u001b[38;5;124m time:</b> \u001b[39m\u001b[38;5;132;01m{\u001b[39;00m\u001b[43mformat_time\u001b[49m\u001b[43m(\u001b[49m\u001b[43mdeplacement_time_seconds\u001b[49m\u001b[43m)\u001b[49m\u001b[38;5;132;01m}\u001b[39;00m\u001b[38;5;124m<br><b>Taxi deplacement time:</b> \u001b[39m\u001b[38;5;132;01m{\u001b[39;00mformat_time(taxi_time)\u001b[38;5;132;01m}\u001b[39;00m\u001b[38;5;124m\"\u001b[39m\n\u001b[0;32m    137\u001b[0m \u001b[38;5;28;01mif\u001b[39;00m polyline_layer \u001b[38;5;129;01mis\u001b[39;00m \u001b[38;5;129;01mnot\u001b[39;00m \u001b[38;5;28;01mNone\u001b[39;00m \u001b[38;5;129;01mand\u001b[39;00m \u001b[38;5;28mlen\u001b[39m(polyline_layer)\u001b[38;5;241m>\u001b[39m\u001b[38;5;241m0\u001b[39m:\n\u001b[0;32m    138\u001b[0m     m\u001b[38;5;241m.\u001b[39mremove_layer(polyline_layer[\u001b[38;5;241m0\u001b[39m])\n",
      "Cell \u001b[1;32mIn[12], line 2\u001b[0m, in \u001b[0;36mformat_time\u001b[1;34m(seconds)\u001b[0m\n\u001b[0;32m      1\u001b[0m \u001b[38;5;28;01mdef\u001b[39;00m \u001b[38;5;21mformat_time\u001b[39m(seconds):\n\u001b[1;32m----> 2\u001b[0m     \u001b[38;5;28;01mif\u001b[39;00m \u001b[43mseconds\u001b[49m\u001b[43m \u001b[49m\u001b[38;5;241;43m<\u001b[39;49m\u001b[43m \u001b[49m\u001b[38;5;241;43m60\u001b[39;49m:\n\u001b[0;32m      3\u001b[0m         \u001b[38;5;66;03m# Only seconds\u001b[39;00m\n\u001b[0;32m      4\u001b[0m         \u001b[38;5;28;01mreturn\u001b[39;00m \u001b[38;5;124mf\u001b[39m\u001b[38;5;124m\"\u001b[39m\u001b[38;5;132;01m{\u001b[39;00m\u001b[38;5;28mint\u001b[39m(seconds)\u001b[38;5;132;01m}\u001b[39;00m\u001b[38;5;124m seconds\u001b[39m\u001b[38;5;124m\"\u001b[39m\n\u001b[0;32m      5\u001b[0m     \u001b[38;5;28;01melif\u001b[39;00m seconds \u001b[38;5;241m<\u001b[39m \u001b[38;5;241m3600\u001b[39m:\n\u001b[0;32m      6\u001b[0m         \u001b[38;5;66;03m# Only minutes\u001b[39;00m\n",
      "\u001b[1;31mTypeError\u001b[0m: '<' not supported between instances of 'NoneType' and 'int'"
     ]
    },
    {
     "name": "stdout",
     "output_type": "stream",
     "text": [
      "Error on get_route_data: ZERO_RESULTS\n",
      "Error: No route data available to extract walking time.\n"
     ]
    },
    {
     "name": "stderr",
     "output_type": "stream",
     "text": [
      "c:\\Users\\cemuelle\\AppData\\Local\\pypoetry\\Cache\\virtualenvs\\hackaton-yFR1hobE-py3.10\\lib\\site-packages\\sklearn\\base.py:493: UserWarning: X does not have valid feature names, but RobustScaler was fitted with feature names\n",
      "  warnings.warn(\n"
     ]
    },
    {
     "ename": "TypeError",
     "evalue": "'<' not supported between instances of 'NoneType' and 'int'",
     "output_type": "error",
     "traceback": [
      "\u001b[1;31m---------------------------------------------------------------------------\u001b[0m",
      "\u001b[1;31mTypeError\u001b[0m                                 Traceback (most recent call last)",
      "Cell \u001b[1;32mIn[22], line 184\u001b[0m, in \u001b[0;36mhandle_click\u001b[1;34m(**kwargs)\u001b[0m\n\u001b[0;32m    182\u001b[0m \u001b[38;5;28;01mdef\u001b[39;00m \u001b[38;5;21mhandle_click\u001b[39m(\u001b[38;5;241m*\u001b[39m\u001b[38;5;241m*\u001b[39mkwargs):\n\u001b[0;32m    183\u001b[0m     \u001b[38;5;28;01mif\u001b[39;00m kwargs\u001b[38;5;241m.\u001b[39mget(\u001b[38;5;124m'\u001b[39m\u001b[38;5;124mtype\u001b[39m\u001b[38;5;124m'\u001b[39m) \u001b[38;5;241m==\u001b[39m \u001b[38;5;124m'\u001b[39m\u001b[38;5;124mclick\u001b[39m\u001b[38;5;124m'\u001b[39m:\n\u001b[1;32m--> 184\u001b[0m         markers_handler(\u001b[38;5;241m*\u001b[39m\u001b[38;5;241m*\u001b[39mkwargs)\n",
      "Cell \u001b[1;32mIn[22], line 178\u001b[0m, in \u001b[0;36mmarkers_handler\u001b[1;34m(**kwargs)\u001b[0m\n\u001b[0;32m    175\u001b[0m         m\u001b[38;5;241m.\u001b[39madd(marker_single)\n\u001b[0;32m    176\u001b[0m         markers\u001b[38;5;241m.\u001b[39mappend(marker_single)\n\u001b[1;32m--> 178\u001b[0m     \u001b[43mcompute_travel_time\u001b[49m\u001b[43m(\u001b[49m\u001b[38;5;28;43;01mNone\u001b[39;49;00m\u001b[43m)\u001b[49m\n\u001b[0;32m    179\u001b[0m \u001b[38;5;28;01melse\u001b[39;00m:\n\u001b[0;32m    180\u001b[0m     m\u001b[38;5;241m.\u001b[39mfit_bounds([[\u001b[38;5;241m40.69625781921317\u001b[39m, \u001b[38;5;241m-\u001b[39m\u001b[38;5;241m74.02656555175783\u001b[39m],[\u001b[38;5;241m40.88834126500965\u001b[39m, \u001b[38;5;241m-\u001b[39m\u001b[38;5;241m73.89953613281251\u001b[39m]])\n",
      "Cell \u001b[1;32mIn[22], line 135\u001b[0m, in \u001b[0;36mcompute_travel_time\u001b[1;34m(change)\u001b[0m\n\u001b[0;32m    132\u001b[0m deplacement_time, deplacement_time_seconds \u001b[38;5;241m=\u001b[39m extract_deplacement_time(route_data)\n\u001b[0;32m    133\u001b[0m taxi_time \u001b[38;5;241m=\u001b[39m getTaxiTripLength(longIn\u001b[38;5;241m=\u001b[39mclick_pos[\u001b[38;5;241m0\u001b[39m][\u001b[38;5;241m0\u001b[39m], latIn\u001b[38;5;241m=\u001b[39mclick_pos[\u001b[38;5;241m0\u001b[39m][\u001b[38;5;241m1\u001b[39m], longOut\u001b[38;5;241m=\u001b[39mclick_pos[\u001b[38;5;241m1\u001b[39m][\u001b[38;5;241m0\u001b[39m], latOut\u001b[38;5;241m=\u001b[39mclick_pos[\u001b[38;5;241m1\u001b[39m][\u001b[38;5;241m1\u001b[39m], month\u001b[38;5;241m=\u001b[39mmonth_slider\u001b[38;5;241m.\u001b[39mvalue, day\u001b[38;5;241m=\u001b[39mday_slider\u001b[38;5;241m.\u001b[39mvalue, hour\u001b[38;5;241m=\u001b[39mhour_slider\u001b[38;5;241m.\u001b[39mvalue)\n\u001b[1;32m--> 135\u001b[0m time_wigdet\u001b[38;5;241m.\u001b[39mvalue \u001b[38;5;241m=\u001b[39m \u001b[38;5;124mf\u001b[39m\u001b[38;5;124m\"\u001b[39m\u001b[38;5;124m<b>Estimated \u001b[39m\u001b[38;5;132;01m{\u001b[39;00mmodel_selector\u001b[38;5;241m.\u001b[39mvalue\u001b[38;5;132;01m}\u001b[39;00m\u001b[38;5;124m time:</b> \u001b[39m\u001b[38;5;132;01m{\u001b[39;00m\u001b[43mformat_time\u001b[49m\u001b[43m(\u001b[49m\u001b[43mdeplacement_time_seconds\u001b[49m\u001b[43m)\u001b[49m\u001b[38;5;132;01m}\u001b[39;00m\u001b[38;5;124m<br><b>Taxi deplacement time:</b> \u001b[39m\u001b[38;5;132;01m{\u001b[39;00mformat_time(taxi_time)\u001b[38;5;132;01m}\u001b[39;00m\u001b[38;5;124m\"\u001b[39m\n\u001b[0;32m    137\u001b[0m \u001b[38;5;28;01mif\u001b[39;00m polyline_layer \u001b[38;5;129;01mis\u001b[39;00m \u001b[38;5;129;01mnot\u001b[39;00m \u001b[38;5;28;01mNone\u001b[39;00m \u001b[38;5;129;01mand\u001b[39;00m \u001b[38;5;28mlen\u001b[39m(polyline_layer)\u001b[38;5;241m>\u001b[39m\u001b[38;5;241m0\u001b[39m:\n\u001b[0;32m    138\u001b[0m     m\u001b[38;5;241m.\u001b[39mremove_layer(polyline_layer[\u001b[38;5;241m0\u001b[39m])\n",
      "Cell \u001b[1;32mIn[12], line 2\u001b[0m, in \u001b[0;36mformat_time\u001b[1;34m(seconds)\u001b[0m\n\u001b[0;32m      1\u001b[0m \u001b[38;5;28;01mdef\u001b[39;00m \u001b[38;5;21mformat_time\u001b[39m(seconds):\n\u001b[1;32m----> 2\u001b[0m     \u001b[38;5;28;01mif\u001b[39;00m \u001b[43mseconds\u001b[49m\u001b[43m \u001b[49m\u001b[38;5;241;43m<\u001b[39;49m\u001b[43m \u001b[49m\u001b[38;5;241;43m60\u001b[39;49m:\n\u001b[0;32m      3\u001b[0m         \u001b[38;5;66;03m# Only seconds\u001b[39;00m\n\u001b[0;32m      4\u001b[0m         \u001b[38;5;28;01mreturn\u001b[39;00m \u001b[38;5;124mf\u001b[39m\u001b[38;5;124m\"\u001b[39m\u001b[38;5;132;01m{\u001b[39;00m\u001b[38;5;28mint\u001b[39m(seconds)\u001b[38;5;132;01m}\u001b[39;00m\u001b[38;5;124m seconds\u001b[39m\u001b[38;5;124m\"\u001b[39m\n\u001b[0;32m      5\u001b[0m     \u001b[38;5;28;01melif\u001b[39;00m seconds \u001b[38;5;241m<\u001b[39m \u001b[38;5;241m3600\u001b[39m:\n\u001b[0;32m      6\u001b[0m         \u001b[38;5;66;03m# Only minutes\u001b[39;00m\n",
      "\u001b[1;31mTypeError\u001b[0m: '<' not supported between instances of 'NoneType' and 'int'"
     ]
    },
    {
     "name": "stdout",
     "output_type": "stream",
     "text": [
      "Error on get_route_data: ZERO_RESULTS\n",
      "Error: No route data available to extract walking time.\n"
     ]
    },
    {
     "name": "stderr",
     "output_type": "stream",
     "text": [
      "c:\\Users\\cemuelle\\AppData\\Local\\pypoetry\\Cache\\virtualenvs\\hackaton-yFR1hobE-py3.10\\lib\\site-packages\\sklearn\\base.py:493: UserWarning: X does not have valid feature names, but RobustScaler was fitted with feature names\n",
      "  warnings.warn(\n"
     ]
    },
    {
     "ename": "TypeError",
     "evalue": "'<' not supported between instances of 'NoneType' and 'int'",
     "output_type": "error",
     "traceback": [
      "\u001b[1;31m---------------------------------------------------------------------------\u001b[0m",
      "\u001b[1;31mTypeError\u001b[0m                                 Traceback (most recent call last)",
      "Cell \u001b[1;32mIn[22], line 184\u001b[0m, in \u001b[0;36mhandle_click\u001b[1;34m(**kwargs)\u001b[0m\n\u001b[0;32m    182\u001b[0m \u001b[38;5;28;01mdef\u001b[39;00m \u001b[38;5;21mhandle_click\u001b[39m(\u001b[38;5;241m*\u001b[39m\u001b[38;5;241m*\u001b[39mkwargs):\n\u001b[0;32m    183\u001b[0m     \u001b[38;5;28;01mif\u001b[39;00m kwargs\u001b[38;5;241m.\u001b[39mget(\u001b[38;5;124m'\u001b[39m\u001b[38;5;124mtype\u001b[39m\u001b[38;5;124m'\u001b[39m) \u001b[38;5;241m==\u001b[39m \u001b[38;5;124m'\u001b[39m\u001b[38;5;124mclick\u001b[39m\u001b[38;5;124m'\u001b[39m:\n\u001b[1;32m--> 184\u001b[0m         markers_handler(\u001b[38;5;241m*\u001b[39m\u001b[38;5;241m*\u001b[39mkwargs)\n",
      "Cell \u001b[1;32mIn[22], line 178\u001b[0m, in \u001b[0;36mmarkers_handler\u001b[1;34m(**kwargs)\u001b[0m\n\u001b[0;32m    175\u001b[0m         m\u001b[38;5;241m.\u001b[39madd(marker_single)\n\u001b[0;32m    176\u001b[0m         markers\u001b[38;5;241m.\u001b[39mappend(marker_single)\n\u001b[1;32m--> 178\u001b[0m     \u001b[43mcompute_travel_time\u001b[49m\u001b[43m(\u001b[49m\u001b[38;5;28;43;01mNone\u001b[39;49;00m\u001b[43m)\u001b[49m\n\u001b[0;32m    179\u001b[0m \u001b[38;5;28;01melse\u001b[39;00m:\n\u001b[0;32m    180\u001b[0m     m\u001b[38;5;241m.\u001b[39mfit_bounds([[\u001b[38;5;241m40.69625781921317\u001b[39m, \u001b[38;5;241m-\u001b[39m\u001b[38;5;241m74.02656555175783\u001b[39m],[\u001b[38;5;241m40.88834126500965\u001b[39m, \u001b[38;5;241m-\u001b[39m\u001b[38;5;241m73.89953613281251\u001b[39m]])\n",
      "Cell \u001b[1;32mIn[22], line 135\u001b[0m, in \u001b[0;36mcompute_travel_time\u001b[1;34m(change)\u001b[0m\n\u001b[0;32m    132\u001b[0m deplacement_time, deplacement_time_seconds \u001b[38;5;241m=\u001b[39m extract_deplacement_time(route_data)\n\u001b[0;32m    133\u001b[0m taxi_time \u001b[38;5;241m=\u001b[39m getTaxiTripLength(longIn\u001b[38;5;241m=\u001b[39mclick_pos[\u001b[38;5;241m0\u001b[39m][\u001b[38;5;241m0\u001b[39m], latIn\u001b[38;5;241m=\u001b[39mclick_pos[\u001b[38;5;241m0\u001b[39m][\u001b[38;5;241m1\u001b[39m], longOut\u001b[38;5;241m=\u001b[39mclick_pos[\u001b[38;5;241m1\u001b[39m][\u001b[38;5;241m0\u001b[39m], latOut\u001b[38;5;241m=\u001b[39mclick_pos[\u001b[38;5;241m1\u001b[39m][\u001b[38;5;241m1\u001b[39m], month\u001b[38;5;241m=\u001b[39mmonth_slider\u001b[38;5;241m.\u001b[39mvalue, day\u001b[38;5;241m=\u001b[39mday_slider\u001b[38;5;241m.\u001b[39mvalue, hour\u001b[38;5;241m=\u001b[39mhour_slider\u001b[38;5;241m.\u001b[39mvalue)\n\u001b[1;32m--> 135\u001b[0m time_wigdet\u001b[38;5;241m.\u001b[39mvalue \u001b[38;5;241m=\u001b[39m \u001b[38;5;124mf\u001b[39m\u001b[38;5;124m\"\u001b[39m\u001b[38;5;124m<b>Estimated \u001b[39m\u001b[38;5;132;01m{\u001b[39;00mmodel_selector\u001b[38;5;241m.\u001b[39mvalue\u001b[38;5;132;01m}\u001b[39;00m\u001b[38;5;124m time:</b> \u001b[39m\u001b[38;5;132;01m{\u001b[39;00m\u001b[43mformat_time\u001b[49m\u001b[43m(\u001b[49m\u001b[43mdeplacement_time_seconds\u001b[49m\u001b[43m)\u001b[49m\u001b[38;5;132;01m}\u001b[39;00m\u001b[38;5;124m<br><b>Taxi deplacement time:</b> \u001b[39m\u001b[38;5;132;01m{\u001b[39;00mformat_time(taxi_time)\u001b[38;5;132;01m}\u001b[39;00m\u001b[38;5;124m\"\u001b[39m\n\u001b[0;32m    137\u001b[0m \u001b[38;5;28;01mif\u001b[39;00m polyline_layer \u001b[38;5;129;01mis\u001b[39;00m \u001b[38;5;129;01mnot\u001b[39;00m \u001b[38;5;28;01mNone\u001b[39;00m \u001b[38;5;129;01mand\u001b[39;00m \u001b[38;5;28mlen\u001b[39m(polyline_layer)\u001b[38;5;241m>\u001b[39m\u001b[38;5;241m0\u001b[39m:\n\u001b[0;32m    138\u001b[0m     m\u001b[38;5;241m.\u001b[39mremove_layer(polyline_layer[\u001b[38;5;241m0\u001b[39m])\n",
      "Cell \u001b[1;32mIn[12], line 2\u001b[0m, in \u001b[0;36mformat_time\u001b[1;34m(seconds)\u001b[0m\n\u001b[0;32m      1\u001b[0m \u001b[38;5;28;01mdef\u001b[39;00m \u001b[38;5;21mformat_time\u001b[39m(seconds):\n\u001b[1;32m----> 2\u001b[0m     \u001b[38;5;28;01mif\u001b[39;00m \u001b[43mseconds\u001b[49m\u001b[43m \u001b[49m\u001b[38;5;241;43m<\u001b[39;49m\u001b[43m \u001b[49m\u001b[38;5;241;43m60\u001b[39;49m:\n\u001b[0;32m      3\u001b[0m         \u001b[38;5;66;03m# Only seconds\u001b[39;00m\n\u001b[0;32m      4\u001b[0m         \u001b[38;5;28;01mreturn\u001b[39;00m \u001b[38;5;124mf\u001b[39m\u001b[38;5;124m\"\u001b[39m\u001b[38;5;132;01m{\u001b[39;00m\u001b[38;5;28mint\u001b[39m(seconds)\u001b[38;5;132;01m}\u001b[39;00m\u001b[38;5;124m seconds\u001b[39m\u001b[38;5;124m\"\u001b[39m\n\u001b[0;32m      5\u001b[0m     \u001b[38;5;28;01melif\u001b[39;00m seconds \u001b[38;5;241m<\u001b[39m \u001b[38;5;241m3600\u001b[39m:\n\u001b[0;32m      6\u001b[0m         \u001b[38;5;66;03m# Only minutes\u001b[39;00m\n",
      "\u001b[1;31mTypeError\u001b[0m: '<' not supported between instances of 'NoneType' and 'int'"
     ]
    },
    {
     "name": "stdout",
     "output_type": "stream",
     "text": [
      "Error on get_route_data: ZERO_RESULTS\n",
      "Error: No route data available to extract walking time.\n"
     ]
    },
    {
     "name": "stderr",
     "output_type": "stream",
     "text": [
      "c:\\Users\\cemuelle\\AppData\\Local\\pypoetry\\Cache\\virtualenvs\\hackaton-yFR1hobE-py3.10\\lib\\site-packages\\sklearn\\base.py:493: UserWarning: X does not have valid feature names, but RobustScaler was fitted with feature names\n",
      "  warnings.warn(\n"
     ]
    },
    {
     "ename": "TypeError",
     "evalue": "'<' not supported between instances of 'NoneType' and 'int'",
     "output_type": "error",
     "traceback": [
      "\u001b[1;31m---------------------------------------------------------------------------\u001b[0m",
      "\u001b[1;31mTypeError\u001b[0m                                 Traceback (most recent call last)",
      "Cell \u001b[1;32mIn[22], line 184\u001b[0m, in \u001b[0;36mhandle_click\u001b[1;34m(**kwargs)\u001b[0m\n\u001b[0;32m    182\u001b[0m \u001b[38;5;28;01mdef\u001b[39;00m \u001b[38;5;21mhandle_click\u001b[39m(\u001b[38;5;241m*\u001b[39m\u001b[38;5;241m*\u001b[39mkwargs):\n\u001b[0;32m    183\u001b[0m     \u001b[38;5;28;01mif\u001b[39;00m kwargs\u001b[38;5;241m.\u001b[39mget(\u001b[38;5;124m'\u001b[39m\u001b[38;5;124mtype\u001b[39m\u001b[38;5;124m'\u001b[39m) \u001b[38;5;241m==\u001b[39m \u001b[38;5;124m'\u001b[39m\u001b[38;5;124mclick\u001b[39m\u001b[38;5;124m'\u001b[39m:\n\u001b[1;32m--> 184\u001b[0m         markers_handler(\u001b[38;5;241m*\u001b[39m\u001b[38;5;241m*\u001b[39mkwargs)\n",
      "Cell \u001b[1;32mIn[22], line 178\u001b[0m, in \u001b[0;36mmarkers_handler\u001b[1;34m(**kwargs)\u001b[0m\n\u001b[0;32m    175\u001b[0m         m\u001b[38;5;241m.\u001b[39madd(marker_single)\n\u001b[0;32m    176\u001b[0m         markers\u001b[38;5;241m.\u001b[39mappend(marker_single)\n\u001b[1;32m--> 178\u001b[0m     \u001b[43mcompute_travel_time\u001b[49m\u001b[43m(\u001b[49m\u001b[38;5;28;43;01mNone\u001b[39;49;00m\u001b[43m)\u001b[49m\n\u001b[0;32m    179\u001b[0m \u001b[38;5;28;01melse\u001b[39;00m:\n\u001b[0;32m    180\u001b[0m     m\u001b[38;5;241m.\u001b[39mfit_bounds([[\u001b[38;5;241m40.69625781921317\u001b[39m, \u001b[38;5;241m-\u001b[39m\u001b[38;5;241m74.02656555175783\u001b[39m],[\u001b[38;5;241m40.88834126500965\u001b[39m, \u001b[38;5;241m-\u001b[39m\u001b[38;5;241m73.89953613281251\u001b[39m]])\n",
      "Cell \u001b[1;32mIn[22], line 135\u001b[0m, in \u001b[0;36mcompute_travel_time\u001b[1;34m(change)\u001b[0m\n\u001b[0;32m    132\u001b[0m deplacement_time, deplacement_time_seconds \u001b[38;5;241m=\u001b[39m extract_deplacement_time(route_data)\n\u001b[0;32m    133\u001b[0m taxi_time \u001b[38;5;241m=\u001b[39m getTaxiTripLength(longIn\u001b[38;5;241m=\u001b[39mclick_pos[\u001b[38;5;241m0\u001b[39m][\u001b[38;5;241m0\u001b[39m], latIn\u001b[38;5;241m=\u001b[39mclick_pos[\u001b[38;5;241m0\u001b[39m][\u001b[38;5;241m1\u001b[39m], longOut\u001b[38;5;241m=\u001b[39mclick_pos[\u001b[38;5;241m1\u001b[39m][\u001b[38;5;241m0\u001b[39m], latOut\u001b[38;5;241m=\u001b[39mclick_pos[\u001b[38;5;241m1\u001b[39m][\u001b[38;5;241m1\u001b[39m], month\u001b[38;5;241m=\u001b[39mmonth_slider\u001b[38;5;241m.\u001b[39mvalue, day\u001b[38;5;241m=\u001b[39mday_slider\u001b[38;5;241m.\u001b[39mvalue, hour\u001b[38;5;241m=\u001b[39mhour_slider\u001b[38;5;241m.\u001b[39mvalue)\n\u001b[1;32m--> 135\u001b[0m time_wigdet\u001b[38;5;241m.\u001b[39mvalue \u001b[38;5;241m=\u001b[39m \u001b[38;5;124mf\u001b[39m\u001b[38;5;124m\"\u001b[39m\u001b[38;5;124m<b>Estimated \u001b[39m\u001b[38;5;132;01m{\u001b[39;00mmodel_selector\u001b[38;5;241m.\u001b[39mvalue\u001b[38;5;132;01m}\u001b[39;00m\u001b[38;5;124m time:</b> \u001b[39m\u001b[38;5;132;01m{\u001b[39;00m\u001b[43mformat_time\u001b[49m\u001b[43m(\u001b[49m\u001b[43mdeplacement_time_seconds\u001b[49m\u001b[43m)\u001b[49m\u001b[38;5;132;01m}\u001b[39;00m\u001b[38;5;124m<br><b>Taxi deplacement time:</b> \u001b[39m\u001b[38;5;132;01m{\u001b[39;00mformat_time(taxi_time)\u001b[38;5;132;01m}\u001b[39;00m\u001b[38;5;124m\"\u001b[39m\n\u001b[0;32m    137\u001b[0m \u001b[38;5;28;01mif\u001b[39;00m polyline_layer \u001b[38;5;129;01mis\u001b[39;00m \u001b[38;5;129;01mnot\u001b[39;00m \u001b[38;5;28;01mNone\u001b[39;00m \u001b[38;5;129;01mand\u001b[39;00m \u001b[38;5;28mlen\u001b[39m(polyline_layer)\u001b[38;5;241m>\u001b[39m\u001b[38;5;241m0\u001b[39m:\n\u001b[0;32m    138\u001b[0m     m\u001b[38;5;241m.\u001b[39mremove_layer(polyline_layer[\u001b[38;5;241m0\u001b[39m])\n",
      "Cell \u001b[1;32mIn[12], line 2\u001b[0m, in \u001b[0;36mformat_time\u001b[1;34m(seconds)\u001b[0m\n\u001b[0;32m      1\u001b[0m \u001b[38;5;28;01mdef\u001b[39;00m \u001b[38;5;21mformat_time\u001b[39m(seconds):\n\u001b[1;32m----> 2\u001b[0m     \u001b[38;5;28;01mif\u001b[39;00m \u001b[43mseconds\u001b[49m\u001b[43m \u001b[49m\u001b[38;5;241;43m<\u001b[39;49m\u001b[43m \u001b[49m\u001b[38;5;241;43m60\u001b[39;49m:\n\u001b[0;32m      3\u001b[0m         \u001b[38;5;66;03m# Only seconds\u001b[39;00m\n\u001b[0;32m      4\u001b[0m         \u001b[38;5;28;01mreturn\u001b[39;00m \u001b[38;5;124mf\u001b[39m\u001b[38;5;124m\"\u001b[39m\u001b[38;5;132;01m{\u001b[39;00m\u001b[38;5;28mint\u001b[39m(seconds)\u001b[38;5;132;01m}\u001b[39;00m\u001b[38;5;124m seconds\u001b[39m\u001b[38;5;124m\"\u001b[39m\n\u001b[0;32m      5\u001b[0m     \u001b[38;5;28;01melif\u001b[39;00m seconds \u001b[38;5;241m<\u001b[39m \u001b[38;5;241m3600\u001b[39m:\n\u001b[0;32m      6\u001b[0m         \u001b[38;5;66;03m# Only minutes\u001b[39;00m\n",
      "\u001b[1;31mTypeError\u001b[0m: '<' not supported between instances of 'NoneType' and 'int'"
     ]
    },
    {
     "name": "stdout",
     "output_type": "stream",
     "text": [
      "Error on get_route_data: ZERO_RESULTS\n",
      "Error: No route data available to extract walking time.\n"
     ]
    },
    {
     "name": "stderr",
     "output_type": "stream",
     "text": [
      "c:\\Users\\cemuelle\\AppData\\Local\\pypoetry\\Cache\\virtualenvs\\hackaton-yFR1hobE-py3.10\\lib\\site-packages\\sklearn\\base.py:493: UserWarning: X does not have valid feature names, but RobustScaler was fitted with feature names\n",
      "  warnings.warn(\n"
     ]
    },
    {
     "ename": "TypeError",
     "evalue": "'<' not supported between instances of 'NoneType' and 'int'",
     "output_type": "error",
     "traceback": [
      "\u001b[1;31m---------------------------------------------------------------------------\u001b[0m",
      "\u001b[1;31mTypeError\u001b[0m                                 Traceback (most recent call last)",
      "Cell \u001b[1;32mIn[22], line 184\u001b[0m, in \u001b[0;36mhandle_click\u001b[1;34m(**kwargs)\u001b[0m\n\u001b[0;32m    182\u001b[0m \u001b[38;5;28;01mdef\u001b[39;00m \u001b[38;5;21mhandle_click\u001b[39m(\u001b[38;5;241m*\u001b[39m\u001b[38;5;241m*\u001b[39mkwargs):\n\u001b[0;32m    183\u001b[0m     \u001b[38;5;28;01mif\u001b[39;00m kwargs\u001b[38;5;241m.\u001b[39mget(\u001b[38;5;124m'\u001b[39m\u001b[38;5;124mtype\u001b[39m\u001b[38;5;124m'\u001b[39m) \u001b[38;5;241m==\u001b[39m \u001b[38;5;124m'\u001b[39m\u001b[38;5;124mclick\u001b[39m\u001b[38;5;124m'\u001b[39m:\n\u001b[1;32m--> 184\u001b[0m         markers_handler(\u001b[38;5;241m*\u001b[39m\u001b[38;5;241m*\u001b[39mkwargs)\n",
      "Cell \u001b[1;32mIn[22], line 178\u001b[0m, in \u001b[0;36mmarkers_handler\u001b[1;34m(**kwargs)\u001b[0m\n\u001b[0;32m    175\u001b[0m         m\u001b[38;5;241m.\u001b[39madd(marker_single)\n\u001b[0;32m    176\u001b[0m         markers\u001b[38;5;241m.\u001b[39mappend(marker_single)\n\u001b[1;32m--> 178\u001b[0m     \u001b[43mcompute_travel_time\u001b[49m\u001b[43m(\u001b[49m\u001b[38;5;28;43;01mNone\u001b[39;49;00m\u001b[43m)\u001b[49m\n\u001b[0;32m    179\u001b[0m \u001b[38;5;28;01melse\u001b[39;00m:\n\u001b[0;32m    180\u001b[0m     m\u001b[38;5;241m.\u001b[39mfit_bounds([[\u001b[38;5;241m40.69625781921317\u001b[39m, \u001b[38;5;241m-\u001b[39m\u001b[38;5;241m74.02656555175783\u001b[39m],[\u001b[38;5;241m40.88834126500965\u001b[39m, \u001b[38;5;241m-\u001b[39m\u001b[38;5;241m73.89953613281251\u001b[39m]])\n",
      "Cell \u001b[1;32mIn[22], line 135\u001b[0m, in \u001b[0;36mcompute_travel_time\u001b[1;34m(change)\u001b[0m\n\u001b[0;32m    132\u001b[0m deplacement_time, deplacement_time_seconds \u001b[38;5;241m=\u001b[39m extract_deplacement_time(route_data)\n\u001b[0;32m    133\u001b[0m taxi_time \u001b[38;5;241m=\u001b[39m getTaxiTripLength(longIn\u001b[38;5;241m=\u001b[39mclick_pos[\u001b[38;5;241m0\u001b[39m][\u001b[38;5;241m0\u001b[39m], latIn\u001b[38;5;241m=\u001b[39mclick_pos[\u001b[38;5;241m0\u001b[39m][\u001b[38;5;241m1\u001b[39m], longOut\u001b[38;5;241m=\u001b[39mclick_pos[\u001b[38;5;241m1\u001b[39m][\u001b[38;5;241m0\u001b[39m], latOut\u001b[38;5;241m=\u001b[39mclick_pos[\u001b[38;5;241m1\u001b[39m][\u001b[38;5;241m1\u001b[39m], month\u001b[38;5;241m=\u001b[39mmonth_slider\u001b[38;5;241m.\u001b[39mvalue, day\u001b[38;5;241m=\u001b[39mday_slider\u001b[38;5;241m.\u001b[39mvalue, hour\u001b[38;5;241m=\u001b[39mhour_slider\u001b[38;5;241m.\u001b[39mvalue)\n\u001b[1;32m--> 135\u001b[0m time_wigdet\u001b[38;5;241m.\u001b[39mvalue \u001b[38;5;241m=\u001b[39m \u001b[38;5;124mf\u001b[39m\u001b[38;5;124m\"\u001b[39m\u001b[38;5;124m<b>Estimated \u001b[39m\u001b[38;5;132;01m{\u001b[39;00mmodel_selector\u001b[38;5;241m.\u001b[39mvalue\u001b[38;5;132;01m}\u001b[39;00m\u001b[38;5;124m time:</b> \u001b[39m\u001b[38;5;132;01m{\u001b[39;00m\u001b[43mformat_time\u001b[49m\u001b[43m(\u001b[49m\u001b[43mdeplacement_time_seconds\u001b[49m\u001b[43m)\u001b[49m\u001b[38;5;132;01m}\u001b[39;00m\u001b[38;5;124m<br><b>Taxi deplacement time:</b> \u001b[39m\u001b[38;5;132;01m{\u001b[39;00mformat_time(taxi_time)\u001b[38;5;132;01m}\u001b[39;00m\u001b[38;5;124m\"\u001b[39m\n\u001b[0;32m    137\u001b[0m \u001b[38;5;28;01mif\u001b[39;00m polyline_layer \u001b[38;5;129;01mis\u001b[39;00m \u001b[38;5;129;01mnot\u001b[39;00m \u001b[38;5;28;01mNone\u001b[39;00m \u001b[38;5;129;01mand\u001b[39;00m \u001b[38;5;28mlen\u001b[39m(polyline_layer)\u001b[38;5;241m>\u001b[39m\u001b[38;5;241m0\u001b[39m:\n\u001b[0;32m    138\u001b[0m     m\u001b[38;5;241m.\u001b[39mremove_layer(polyline_layer[\u001b[38;5;241m0\u001b[39m])\n",
      "Cell \u001b[1;32mIn[12], line 2\u001b[0m, in \u001b[0;36mformat_time\u001b[1;34m(seconds)\u001b[0m\n\u001b[0;32m      1\u001b[0m \u001b[38;5;28;01mdef\u001b[39;00m \u001b[38;5;21mformat_time\u001b[39m(seconds):\n\u001b[1;32m----> 2\u001b[0m     \u001b[38;5;28;01mif\u001b[39;00m \u001b[43mseconds\u001b[49m\u001b[43m \u001b[49m\u001b[38;5;241;43m<\u001b[39;49m\u001b[43m \u001b[49m\u001b[38;5;241;43m60\u001b[39;49m:\n\u001b[0;32m      3\u001b[0m         \u001b[38;5;66;03m# Only seconds\u001b[39;00m\n\u001b[0;32m      4\u001b[0m         \u001b[38;5;28;01mreturn\u001b[39;00m \u001b[38;5;124mf\u001b[39m\u001b[38;5;124m\"\u001b[39m\u001b[38;5;132;01m{\u001b[39;00m\u001b[38;5;28mint\u001b[39m(seconds)\u001b[38;5;132;01m}\u001b[39;00m\u001b[38;5;124m seconds\u001b[39m\u001b[38;5;124m\"\u001b[39m\n\u001b[0;32m      5\u001b[0m     \u001b[38;5;28;01melif\u001b[39;00m seconds \u001b[38;5;241m<\u001b[39m \u001b[38;5;241m3600\u001b[39m:\n\u001b[0;32m      6\u001b[0m         \u001b[38;5;66;03m# Only minutes\u001b[39;00m\n",
      "\u001b[1;31mTypeError\u001b[0m: '<' not supported between instances of 'NoneType' and 'int'"
     ]
    },
    {
     "name": "stderr",
     "output_type": "stream",
     "text": [
      "c:\\Users\\cemuelle\\AppData\\Local\\pypoetry\\Cache\\virtualenvs\\hackaton-yFR1hobE-py3.10\\lib\\site-packages\\sklearn\\base.py:493: UserWarning: X does not have valid feature names, but RobustScaler was fitted with feature names\n",
      "  warnings.warn(\n",
      "c:\\Users\\cemuelle\\AppData\\Local\\pypoetry\\Cache\\virtualenvs\\hackaton-yFR1hobE-py3.10\\lib\\site-packages\\sklearn\\base.py:493: UserWarning: X does not have valid feature names, but RobustScaler was fitted with feature names\n",
      "  warnings.warn(\n"
     ]
    }
   ],
   "source": [
    "m = Map(center=(40.7128, -74.0060), zoom=15,layout=Layout(height='1000px'),scroll_wheel_zoom=True, fullscreen=True)\n",
    "\n",
    "def random_color(feature):\n",
    "    return {\n",
    "        'color': 'purple',\n",
    "        'fillColor': 'green',\n",
    "    }\n",
    "\n",
    "geo_json = GeoJSON(\n",
    "    data=js,\n",
    "    style={\n",
    "        'opacity': 1, 'dashArray': '40', 'fillOpacity': 0.1, 'weight': 1\n",
    "    },\n",
    "    style_callback=random_color\n",
    ")\n",
    "\n",
    "\n",
    "m.add(FullScreenControl())\n",
    "m.add(geo_json)\n",
    "now = datetime.now()\n",
    "\n",
    "click_pos=[]\n",
    "markers=[]\n",
    "polyline_layer=[]\n",
    "\n",
    "time_wigdet = HTML()\n",
    "deplacement_time_control = WidgetControl(widget=time_wigdet, position='topright')\n",
    "\n",
    "icon_start = AwesomeIcon(\n",
    "    name='play',\n",
    "    marker_color='green',\n",
    "    icon_color='white',\n",
    "    spin=False\n",
    ")\n",
    "\n",
    "icon_stop = AwesomeIcon(\n",
    "    name='stop',\n",
    "    marker_color='red',\n",
    "    icon_color='black',\n",
    "    spin=False\n",
    ")\n",
    "\n",
    "month_slider = SelectionSlider(\n",
    "    options=[('January', 1), ('February', 2), ('March', 3), ('April', 4),\n",
    "             ('May', 5), ('June', 6), ('July', 7), ('August', 8),\n",
    "             ('September', 9), ('October', 10), ('November', 11), ('December', 12)],\n",
    "    value=now.month,\n",
    "    description='Month:',\n",
    "    disabled=False,\n",
    "    continuous_update=False,\n",
    "    orientation='horizontal',\n",
    "    readout=True\n",
    ")\n",
    "\n",
    "day_slider = IntSlider(\n",
    "    value=now.day,\n",
    "    min=1,\n",
    "    max=31,\n",
    "    step=1,\n",
    "    description='Day:',\n",
    "    disabled=False,\n",
    "    continuous_update=False,\n",
    "    orientation='horizontal',\n",
    "    readout=True,\n",
    "    readout_format='d',\n",
    ")\n",
    "\n",
    "hour_slider = IntSlider(\n",
    "    value=now.hour,\n",
    "    min=0,\n",
    "    max=23,\n",
    "    step=1,\n",
    "    description='Hour:',\n",
    "    disabled=False,\n",
    "    continuous_update=False,\n",
    "    orientation='horizontal',\n",
    "    readout=True,\n",
    "    readout_format='d',\n",
    ")\n",
    "\n",
    "time_button = Button(description=\"Ok\")\n",
    "\n",
    "model_selector = Dropdown(\n",
    "    # options=['walking', 'bicycling', 'transit', 'driving'],\n",
    "    options=['walking', 'bicycling'],\n",
    "    description='Mode:',\n",
    "    disabled=False\n",
    ")\n",
    "\n",
    "month_days = {\n",
    "    1: 31,  # January\n",
    "    2: 28,  # February (non-leap year), or 29 (leap year)\n",
    "    3: 31,  # March\n",
    "    4: 30,  # April\n",
    "    5: 31,  # May\n",
    "    6: 30,  # June\n",
    "    7: 31,  # July\n",
    "    8: 31,  # August\n",
    "    9: 30,  # September\n",
    "    10: 31, # October\n",
    "    11: 30, # November\n",
    "    12: 31  # December\n",
    "}\n",
    "\n",
    "def update_day_slider(change):\n",
    "    month = month_slider.value\n",
    "\n",
    "    # If the month is February, be able to set up to 29 days here for leap years\n",
    "    if month == 2:\n",
    "        day_slider.max = 28\n",
    "    else:\n",
    "        day_slider.max = month_days[month]\n",
    "    \n",
    "    # Adjust the current value if it's larger than the new max\n",
    "    if day_slider.value > day_slider.max:\n",
    "        day_slider.value = day_slider.max\n",
    "\n",
    "month_slider.observe(update_day_slider, names='value')\n",
    "update_day_slider(None)\n",
    "\n",
    "title = HTML(\"<h4 style='margin: 0px; margin-left: 10px'>Select Time</h4>\")\n",
    "\n",
    "time_control_box = Box([title, day_slider, month_slider, hour_slider, time_button, model_selector], layout={'display': 'flex', 'flex_flow': 'column', 'align_items': 'stretch'})\n",
    "time_control = WidgetControl(widget=time_control_box, position='bottomright')\n",
    "\n",
    "m.add_control(time_control)\n",
    "\n",
    "def compute_travel_time(change):\n",
    "    if len(click_pos)>=2:\n",
    "        departure_time = datetime(2025, month_slider.value, day_slider.value, hour_slider.value)\n",
    "        route_data = get_route_data(click_pos[0], click_pos[1], api_key, departure_time, model_selector.value)\n",
    "        deplacement_time, deplacement_time_seconds = extract_deplacement_time(route_data)\n",
    "        taxi_time = getTaxiTripLength(longIn=click_pos[0][0], latIn=click_pos[0][1], longOut=click_pos[1][0], latOut=click_pos[1][1], month=month_slider.value, day=day_slider.value, hour=hour_slider.value)\n",
    "\n",
    "        time_wigdet.value = f\"<b>Estimated {model_selector.value} time:</b> {format_time(deplacement_time_seconds)}<br><b>Taxi deplacement time:</b> {format_time(taxi_time)}\"\n",
    "\n",
    "        if polyline_layer is not None and len(polyline_layer)>0:\n",
    "            m.remove_layer(polyline_layer[0])\n",
    "            polyline_layer.pop(0)\n",
    "            \n",
    "        polyline_layer.append(Polyline(locations=decode_polyline(extract_polyline(route_data)), color=\"blue\", fill=False))\n",
    "        m.add_layer(polyline_layer[0])\n",
    "\n",
    "def markers_handler(**kwargs):\n",
    "\n",
    "    coords=kwargs.get('coordinates')\n",
    "    if(checkIfIn(coords)):\n",
    "        click_pos.append(coords)\n",
    "    \n",
    "        if len(click_pos)==3:\n",
    "            m.remove_layer(markers[0])\n",
    "            m.remove_layer(markers[1])\n",
    "\n",
    "            click_pos.pop(0)\n",
    "            markers.pop(0)\n",
    "\n",
    "            marker_start=Marker(location=click_pos[0],icon=icon_start)\n",
    "            marker_stop=Marker(location=click_pos[1],icon=icon_stop)\n",
    "        \n",
    "            m.add(marker_start)\n",
    "            m.add(marker_stop)\n",
    "            markers[0]=marker_start\n",
    "            markers.append(marker_stop)\n",
    "\n",
    "    \n",
    "        elif len(click_pos)==2:\n",
    "            marker_stop=Marker(location=click_pos[1],icon=icon_stop)\n",
    "            m.add(marker_stop)\n",
    "            markers.append(marker_stop)\n",
    "\n",
    "            m.add_control(deplacement_time_control)\n",
    "        else:\n",
    "            marker_single=Marker(location=click_pos[0],icon=icon_start)\n",
    "            m.add(marker_single)\n",
    "            markers.append(marker_single)\n",
    "    \n",
    "        compute_travel_time(None)\n",
    "    else:\n",
    "        m.fit_bounds([[40.69625781921317, -74.02656555175783],[40.88834126500965, -73.89953613281251]])\n",
    "\n",
    "def handle_click(**kwargs):\n",
    "    if kwargs.get('type') == 'click':\n",
    "        markers_handler(**kwargs)\n",
    "\n",
    "\n",
    "time_button.on_click(compute_travel_time)\n",
    "model_selector.observe(compute_travel_time, names='value')\n",
    "\n",
    "m.fit_bounds([[40.69625781921317, -74.02656555175783],[40.88834126500965, -73.89953613281251]])\n",
    "m.on_interaction(handle_click)\n",
    "\n",
    "m"
   ]
  }
 ],
 "metadata": {
  "kernelspec": {
   "display_name": "hackaton-yFR1hobE-py3.10",
   "language": "python",
   "name": "python3"
  },
  "language_info": {
   "codemirror_mode": {
    "name": "ipython",
    "version": 3
   },
   "file_extension": ".py",
   "mimetype": "text/x-python",
   "name": "python",
   "nbconvert_exporter": "python",
   "pygments_lexer": "ipython3",
   "version": "3.10.11"
  }
 },
 "nbformat": 4,
 "nbformat_minor": 2
}
