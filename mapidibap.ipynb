{
 "cells": [
  {
   "cell_type": "code",
   "execution_count": 6,
   "metadata": {},
   "outputs": [],
   "source": [
    "from ipyleaflet import *\n",
    "from ipyleaflet import AwesomeIcon, Marker, Map\n",
    "import s3fs\n",
    "import pyarrow as pa\n",
    "import pyarrow.dataset as ds\n",
    "\n",
    "import sys\n",
    "import os\n",
    "\n",
    "import pyspark\n",
    "from pyspark.sql import SparkSession\n",
    "from pyspark.sql import functions as F\n",
    "from pyspark.sql import Window\n",
    "\n",
    "import pandas as pd\n",
    "import polars as pl\n",
    "import altair as alt\n",
    "import matplotlib.pyplot as plt\n",
    "\n",
    "import geopandas as gpd\n",
    "\n",
    "import datetime\n",
    "\n",
    "from pyspark.sql.functions import *"
   ]
  },
  {
   "cell_type": "code",
   "execution_count": 32,
   "metadata": {},
   "outputs": [
    {
     "data": {
      "application/vnd.jupyter.widget-view+json": {
       "model_id": "8f9005d5a5054719af9f1503e257f0bc",
       "version_major": 2,
       "version_minor": 0
      },
      "text/plain": [
       "Map(center=[40.7128, -74.006], controls=(ZoomControl(options=['position', 'zoom_in_text', 'zoom_in_title', 'zo…"
      ]
     },
     "execution_count": 32,
     "metadata": {},
     "output_type": "execute_result"
    }
   ],
   "source": [
    "m = Map(center=(40.7128, -74.0060), zoom=14)\n",
    "\n",
    "click_pos=[]\n",
    "markers=[]\n",
    "\n",
    "icon_start = AwesomeIcon(\n",
    "    name='play',\n",
    "    marker_color='red',\n",
    "    icon_color='black',\n",
    "    spin=False\n",
    ")\n",
    "\n",
    "icon_stop = AwesomeIcon(\n",
    "    name='stop-circle',\n",
    "    marker_color='blue',\n",
    "    icon_color='black',\n",
    "    spin=False\n",
    ")\n",
    "\n",
    "\n",
    "\n",
    "def markers_handler(**kwargs):\n",
    "    \n",
    "    click_pos.append(kwargs.get('coordinates'))\n",
    "    \n",
    "    if len(click_pos)==3:\n",
    "        m.remove_layer(markers[0])\n",
    "        m.remove_layer(markers[1])\n",
    "\n",
    "        click_pos.pop(0)\n",
    "        markers.pop(0)\n",
    "\n",
    "        marker_start=Marker(location=click_pos[0],icon=icon_start)\n",
    "        marker_stop=Marker(location=click_pos[1],icon=icon_stop)\n",
    "        \n",
    "        m.add(marker_start)\n",
    "        m.add(marker_stop)\n",
    "        markers[0]=marker_start\n",
    "        markers.append(marker_stop)\n",
    "\n",
    "    \n",
    "    elif len(click_pos)==2:\n",
    "        marker_stop=Marker(location=click_pos[1],icon=icon_stop)\n",
    "        m.add(marker_stop)\n",
    "        markers.append(marker_stop)\n",
    "\n",
    "    else:\n",
    "        marker_single=Marker(location=click_pos[0],icon=icon_start)\n",
    "        m.add(marker_single)\n",
    "        markers.append(marker_single)\n",
    "\n",
    "\n",
    "\n",
    "\n",
    "def handle_click(**kwargs):\n",
    "    if kwargs.get('type') == 'click':\n",
    "        markers_handler(**kwargs)\n",
    "\n",
    "m.on_interaction(handle_click)\n",
    "\n",
    "m"
   ]
  }
 ],
 "metadata": {
  "kernelspec": {
   "display_name": "hackaton",
   "language": "python",
   "name": "python3"
  },
  "language_info": {
   "codemirror_mode": {
    "name": "ipython",
    "version": 3
   },
   "file_extension": ".py",
   "mimetype": "text/x-python",
   "name": "python",
   "nbconvert_exporter": "python",
   "pygments_lexer": "ipython3",
   "version": "3.10.13"
  }
 },
 "nbformat": 4,
 "nbformat_minor": 2
}
