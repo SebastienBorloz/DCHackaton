{
 "cells": [
  {
   "cell_type": "code",
   "execution_count": 2,
   "metadata": {},
   "outputs": [],
   "source": [
    "from ipyleaflet import *\n",
    "import s3fs\n",
    "import pyarrow as pa\n",
    "import pyarrow.dataset as ds\n",
    "\n",
    "import sys\n",
    "import os\n",
    "\n",
    "import pyspark\n",
    "from pyspark.sql import SparkSession\n",
    "from pyspark.sql import functions as F\n",
    "from pyspark.sql import Window\n",
    "\n",
    "import pandas as pd\n",
    "import polars as pl\n",
    "import altair as alt\n",
    "import matplotlib.pyplot as plt\n",
    "\n",
    "import geopandas as gpd\n",
    "\n",
    "import datetime\n",
    "\n",
    "from pyspark.sql.functions import *"
   ]
  },
  {
   "cell_type": "code",
   "execution_count": 9,
   "metadata": {},
   "outputs": [
    {
     "data": {
      "application/vnd.jupyter.widget-view+json": {
       "model_id": "00cf02141eee48a381390efb4e856f4f",
       "version_major": 2,
       "version_minor": 0
      },
      "text/plain": [
       "Map(center=[40.7128, -74.006], controls=(ZoomControl(options=['position', 'zoom_in_text', 'zoom_in_title', 'zo…"
      ]
     },
     "execution_count": 9,
     "metadata": {},
     "output_type": "execute_result"
    },
    {
     "name": "stdout",
     "output_type": "stream",
     "text": [
      "[40.714476284709335, -74.00450706481935]\n",
      "[40.720136007355364, -73.99446487426759]\n",
      "[40.717273679029205, -73.99206161499025]\n",
      "[40.71493168249225, -73.99849891662599]\n",
      "[40.71675324247426, -74.00407791137697]\n",
      "[40.72098167171645, -73.99618148803712]\n",
      "[40.71974569710356, -73.98038864135744]\n",
      "[40.71506179557237, -74.00150299072267]\n",
      "[40.72091662099322, -74.00639533996583]\n",
      "[40.71942043681214, -73.98425102233888]\n",
      "[40.71408594127328, -73.99446487426759]\n",
      "[40.71863980562839, -74.00158882141115]\n",
      "[40.72280306615735, -73.98699760437013]\n",
      "[40.716102691059234, -73.9948081970215]\n",
      "[40.718834964282536, -74.00776863098146]\n",
      "[40.72208752428535, -73.99360656738283]\n",
      "[40.7152569647158, -73.99686813354494]\n",
      "[40.716818297266144, -73.98365020751955]\n",
      "[40.72091662099322, -73.99360656738283]\n",
      "[40.719290332250566, -74.0075969696045]\n",
      "[40.71408594127328, -73.99849891662599]\n",
      "[40.71863980562839, -73.9896583557129]\n",
      "[40.7213069243792, -73.99970054626466]\n",
      "[40.71785916529029, -74.00699615478517]\n",
      "[40.715452133287066, -73.98596763610841]\n",
      "[40.71428111327738, -73.99566650390626]\n",
      "[40.71707851579789, -74.00261878967287]\n",
      "[40.72176227543699, -73.989315032959]\n",
      "[40.71720862468233, -73.99952888488771]\n",
      "[40.713565479798646, -73.9922332763672]\n",
      "[40.71584246871321, -74.00733947753908]\n",
      "[40.7248195518649, -73.98631095886232]\n",
      "[40.72176227543699, -73.99781227111818]\n",
      "[40.71486662585682, -73.98777008056642]\n",
      "[40.7152569647158, -74.00630950927736]\n",
      "[40.72117682350482, -73.98922920227052]\n",
      "[40.72319335848166, -74.00485038757326]\n",
      "[40.716948406659164, -73.99352073669435]\n"
     ]
    }
   ],
   "source": [
    "m = Map(center=(40.7128, -74.0060), zoom=14)\n",
    "\n",
    "click_pos=[]\n",
    "markers=[]\n",
    "def handle_click(**kwargs):\n",
    "    if kwargs.get('type') == 'click':\n",
    "        markers.append(Marker(location=kwargs.get('coordinates')))\n",
    "        m.add_layer(markers[-1])\n",
    "        if len(markers)>2:\n",
    "            m.remove_layer(markers[0])\n",
    "            markers.pop(0)\n",
    "            click_pos.pop(0)\n",
    "        click_pos.append(kwargs.get('coordinates'))\n",
    "        print(kwargs.get('coordinates'))\n",
    "\n",
    "m.on_interaction(handle_click)\n",
    "\n",
    "m"
   ]
  }
 ],
 "metadata": {
  "kernelspec": {
   "display_name": "hackaton",
   "language": "python",
   "name": "python3"
  },
  "language_info": {
   "codemirror_mode": {
    "name": "ipython",
    "version": 3
   },
   "file_extension": ".py",
   "mimetype": "text/x-python",
   "name": "python",
   "nbconvert_exporter": "python",
   "pygments_lexer": "ipython3",
   "version": "3.10.13"
  }
 },
 "nbformat": 4,
 "nbformat_minor": 2
}
