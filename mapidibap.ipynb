{
 "cells": [
  {
   "cell_type": "code",
   "execution_count": 22,
   "metadata": {},
   "outputs": [],
   "source": [
    "from ipyleaflet import *\n",
    "from ipyleaflet import AwesomeIcon, Marker, Map\n",
    "import s3fs\n",
    "import pyarrow as pa\n",
    "import pyarrow.dataset as ds\n",
    "\n",
    "import sys\n",
    "import os\n",
    "\n",
    "import pyspark\n",
    "from pyspark.sql import SparkSession\n",
    "from pyspark.sql import functions as F\n",
    "from pyspark.sql import Window\n",
    "\n",
    "import pandas as pd\n",
    "import polars as pl\n",
    "import altair as alt\n",
    "import matplotlib.pyplot as plt\n",
    "\n",
    "import geopandas as gpd\n",
    "\n",
    "import datetime\n",
    "\n",
    "from pyspark.sql.functions import *\n",
    "\n",
    "from shapely.geometry import shape, Point\n",
    "from ipywidgets import Layout"
   ]
  },
  {
   "cell_type": "code",
   "execution_count": 8,
   "metadata": {},
   "outputs": [],
   "source": [
    "# load GeoJSON file containing sectors\n",
    "with open('manhattan.geojson') as f:\n",
    "    js = json.load(f)"
   ]
  },
  {
   "cell_type": "code",
   "execution_count": 19,
   "metadata": {},
   "outputs": [],
   "source": [
    "def checkIfIn(cords:list):\n",
    "    point=Point(cords[1],cords[0])\n",
    "    # check each polygon to see if it contains the point\n",
    "    for feature in js['features']:\n",
    "        polygon = shape(feature['geometry'])\n",
    "        if polygon.contains(point):\n",
    "            return True\n",
    "    return False"
   ]
  },
  {
   "cell_type": "markdown",
   "metadata": {},
   "source": [
    "[40.69625781921317, -74.02656555175783]\n",
    "\n",
    "[40.69938133866613, -73.91361236572267]\n",
    "\n",
    "[40.88834126500965, -73.89953613281251]\n",
    "\n",
    "[40.881073537911995, -74.02210235595705]\n"
   ]
  },
  {
   "cell_type": "code",
   "execution_count": 27,
   "metadata": {},
   "outputs": [
    {
     "data": {
      "application/vnd.jupyter.widget-view+json": {
       "model_id": "103c1efc982343cbb08e07e1eeea769c",
       "version_major": 2,
       "version_minor": 0
      },
      "text/plain": [
       "Map(center=[40.7128, -74.006], controls=(ZoomControl(options=['position', 'zoom_in_text', 'zoom_in_title', 'zo…"
      ]
     },
     "execution_count": 27,
     "metadata": {},
     "output_type": "execute_result"
    },
    {
     "name": "stdout",
     "output_type": "stream",
     "text": [
      "[40.74049401829621, -74.02965545654298]\n",
      "c'est pas dedans chef\n",
      "[40.739583569403294, -73.99978637695314]\n",
      "[40.75401921961654, -73.98450851440431]\n",
      "[40.73438076524639, -74.04270172119142]\n",
      "c'est pas dedans chef\n",
      "[40.746736760718505, -74.03514862060548]\n",
      "c'est pas dedans chef\n"
     ]
    }
   ],
   "source": [
    "m = Map(center=(40.7128, -74.0060), zoom=15,layout=Layout(height='1000px'))\n",
    "#m.fit_bounds([[40.69625781921317, -74.02656555175783],[40.88834126500965, -73.89953613281251]])\n",
    "\n",
    "\n",
    "click_pos=[]\n",
    "markers=[]\n",
    "\n",
    "icon_start = AwesomeIcon(\n",
    "    name='play',\n",
    "    marker_color='green',\n",
    "    icon_color='white',\n",
    "    spin=False\n",
    ")\n",
    "\n",
    "icon_stop = AwesomeIcon(\n",
    "    name='ban',\n",
    "    marker_color='red',\n",
    "    icon_color='black',\n",
    "    spin=False\n",
    ")\n",
    "\n",
    "def markers_handler(**kwargs):\n",
    "    \n",
    "    coords=kwargs.get('coordinates')\n",
    "    print(coords)\n",
    "    if(checkIfIn(coords)):\n",
    "\n",
    "        click_pos.append(coords)\n",
    "\n",
    "        \n",
    "        if len(click_pos)==3:\n",
    "            m.remove_layer(markers[0])\n",
    "            m.remove_layer(markers[1])\n",
    "\n",
    "            click_pos.pop(0)\n",
    "            markers.pop(0)\n",
    "\n",
    "            marker_start=Marker(location=click_pos[0],icon=icon_start)\n",
    "            marker_stop=Marker(location=click_pos[1],icon=icon_stop)\n",
    "            \n",
    "            m.add(marker_start)\n",
    "            m.add(marker_stop)\n",
    "\n",
    "            markers[0]=marker_start\n",
    "            markers.append(marker_stop)\n",
    "\n",
    "        \n",
    "        elif len(click_pos)==2:\n",
    "            marker_stop=Marker(location=click_pos[1],icon=icon_stop)\n",
    "            m.add(marker_stop)\n",
    "            markers.append(marker_stop)\n",
    "\n",
    "        else:\n",
    "            marker_single=Marker(location=click_pos[0],icon=icon_start)\n",
    "            m.add(marker_single)\n",
    "            markers.append(marker_single)\n",
    "\n",
    "    else:\n",
    "        print(\"c'est pas dedans chef\")\n",
    "\n",
    "def handle_click(**kwargs):\n",
    "    if kwargs.get('type') == 'click':\n",
    "        markers_handler(**kwargs)\n",
    "\n",
    "m.on_interaction(handle_click)\n",
    "\n",
    "m"
   ]
  }
 ],
 "metadata": {
  "kernelspec": {
   "display_name": "hackaton",
   "language": "python",
   "name": "python3"
  },
  "language_info": {
   "codemirror_mode": {
    "name": "ipython",
    "version": 3
   },
   "file_extension": ".py",
   "mimetype": "text/x-python",
   "name": "python",
   "nbconvert_exporter": "python",
   "pygments_lexer": "ipython3",
   "version": "3.10.13"
  }
 },
 "nbformat": 4,
 "nbformat_minor": 2
}
